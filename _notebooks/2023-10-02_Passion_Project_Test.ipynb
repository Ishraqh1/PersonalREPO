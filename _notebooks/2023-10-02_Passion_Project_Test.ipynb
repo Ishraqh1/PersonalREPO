{
 "cells": [
  {
   "cell_type": "markdown",
   "metadata": {},
   "source": [
    "---\n",
    "toc: true\n",
    "comments: true\n",
    "layout: post\n",
    "title: Web Programming Copy\n",
    "description: The Web Programming Copy\n",
    "courses: { compsci: {week: 6} }\n",
    "type: hacks\n",
    "---"
   ]
  },
  {
   "cell_type": "markdown",
   "metadata": {},
   "source": [
    "## Testing for Passion Project"
   ]
  },
  {
   "cell_type": "code",
   "execution_count": 3,
   "metadata": {
    "vscode": {
     "languageId": "html"
    }
   },
   "outputs": [
    {
     "data": {
      "text/html": [
       "\n",
       "<style>\n",
       "\n",
       "</style>\n",
       "\n",
       "<div>\n",
       "    <h2 class=\"TopHeader\">Turn-Based Boss Fight, Can you win?</h2>\n",
       "    <p class=\"TopParagraph\">Welcome challenger. You stand at the gates of (insert name of boss idfk). Behind the curtain lies an immense danger unlike any other and unknown to the world. Will you rise to the challenge or not?</p>\n",
       "    <img class=\"BossImage\" alt=\"\" src=\"\"></a>\n",
       "</div>\n",
       "\n",
       "<div>\n",
       "    <button id=\"Button1\">Yes</button>\n",
       "    <button id=\"Button2\">No</button>\n",
       "    \n",
       "    <!-- <script src=\"(insertpath)\"></script> -->\n",
       "\n",
       "    <!-- <script>\n",
       "        // wait this should be in its own script file for backend...?\n",
       "        var challengeaccept = document.getElementById(\"Button1\");\n",
       "        challengeaccept.addEventListener('click', function() {\n",
       "            ;\n",
       "        });\n",
       "        var challengedeny = document.getElementById(\"Button2\");\n",
       "        challengedeny.addEventListener('click', function() {\n",
       "            ;\n",
       "        });\n",
       "    </script> -->\n",
       "</div>\n"
      ],
      "text/plain": [
       "<IPython.core.display.HTML object>"
      ]
     },
     "metadata": {},
     "output_type": "display_data"
    }
   ],
   "source": [
    "%%html\n",
    "\n",
    "<style>\n",
    "\n",
    "</style>\n",
    "\n",
    "<div>\n",
    "    <h2 class=\"TopHeader\">Turn-Based Boss Fight, Can you win?</h2>\n",
    "    <p class=\"TopParagraph\">Welcome challenger. You stand at the gates of (insert name of boss idfk). Behind the curtain lies an immense danger unlike any other and unknown to the world. Will you rise to the challenge or not?</p>\n",
    "    <img class=\"BossImage\" alt=\"\" src=\"\"></a>\n",
    "</div>\n",
    "\n",
    "<div>\n",
    "    <button id=\"Button1\">Yes</button>\n",
    "    <button id=\"Button2\">No</button>\n",
    "    \n",
    "    <!-- <script src=\"(insertpath)\"></script> -->\n",
    "\n",
    "    <!-- <script>\n",
    "        // wait this should be in its own script file for backend...?\n",
    "        var challengeaccept = document.getElementById(\"Button1\");\n",
    "        challengeaccept.addEventListener('click', function() {\n",
    "            ;\n",
    "        });\n",
    "        var challengedeny = document.getElementById(\"Button2\");\n",
    "        challengedeny.addEventListener('click', function() {\n",
    "            ;\n",
    "        });\n",
    "    </script> -->\n",
    "</div>"
   ]
  }
 ],
 "metadata": {
  "kernelspec": {
   "display_name": "Python 3",
   "language": "python",
   "name": "python3"
  },
  "language_info": {
   "codemirror_mode": {
    "name": "ipython",
    "version": 3
   },
   "file_extension": ".py",
   "mimetype": "text/x-python",
   "name": "python",
   "nbconvert_exporter": "python",
   "pygments_lexer": "ipython3",
   "version": "3.10.12"
  },
  "orig_nbformat": 4
 },
 "nbformat": 4,
 "nbformat_minor": 2
}
