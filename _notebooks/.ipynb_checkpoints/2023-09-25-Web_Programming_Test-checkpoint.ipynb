{
 "cells": [
  {
   "cell_type": "markdown",
   "metadata": {},
   "source": [
    "---\n",
    "toc: true\n",
    "comments: true\n",
    "layout: post\n",
    "title: Web Programming \n",
    "description: The Web Programming Basics Test\n",
    "courses: { compsci: {week: 6} }\n",
    "type: hacks\n",
    "---"
   ]
  },
  {
   "cell_type": "markdown",
   "metadata": {},
   "source": [
    "## The HTML Section"
   ]
  },
  {
   "cell_type": "code",
   "execution_count": 1,
   "metadata": {
    "vscode": {
     "languageId": "html"
    }
   },
   "outputs": [
    {
     "data": {
      "text/html": [
       "\n",
       "<style>\n",
       ".Header{\n",
       "    background-color: aqua;\n",
       "    color: black;\n",
       "    font-family: cursive;\n",
       "}\n",
       ".p1{\n",
       "    background-color: darkorchid;\n",
       "    font-family:'Franklin Gothic Medium';\n",
       "}\n",
       ".p2{\n",
       "    background-color:darkred;\n",
       "    color:lightskyblue;\n",
       "    font-family: Impact;\n",
       "}\n",
       "</style>\n",
       "\n",
       "<div>\n",
       "<h3 class=\"Header\">Web Programming HTML Test</h3>\n",
       "    <p class=\"p1\">Want to get an annoying alert? Look no further!</p>\n",
       "    <button id=\"button\" title=\"You sure?\">Click me to get an alert!</button>\n",
       "    <script>\n",
       "        var button = document.getElementById(\"button\");\n",
       "        button.addEventListener('click', function() {\n",
       "            alert(\"You clicked the button!\");\n",
       "        });\n",
       "    </script>\n",
       "</div>\n",
       "\n",
       "<div>\n",
       "    <a href=\"https://media.discordapp.net/attachments/1143438030749847604/1156139470861647913/Man.png?ex=6513e249&is=651290c9&hm=0465268409fce7b051eeddea83e6a1efb9ac5441e4babe5cb048c99714603ef7&=&width=973&height=605\" target=\"_blank\" title=\"Thank you for\">Random meme 1</a>\n",
       "    <br>\n",
       "    <a href=\"https://media.discordapp.net/attachments/1143438030749847604/1156140085243293797/Intimidation_is_key.jpg?ex=6513e2dc&is=6512915c&hm=ede45e69c7d5c19595f12e5437867a1b4192869a26f5a0e8837fddcf17bf6f16&=&width=636&height=605\" target=\"_blank\" title=\"reading the below text!\">Random meme 2</a>\n",
       "    <p class=\"p2\">Above you will see two links. Hover over them for a special message, and click them to go to random memes I found in my computer at 1 am.</p>\n",
       "</div>\n"
      ],
      "text/plain": [
       "<IPython.core.display.HTML object>"
      ]
     },
     "metadata": {},
     "output_type": "display_data"
    }
   ],
   "source": [
    "%%html\n",
    "\n",
    "<style>\n",
    ".Header{\n",
    "    background-color: aqua;\n",
    "    color: black;\n",
    "    font-family: cursive;\n",
    "}\n",
    ".p1{\n",
    "    background-color: darkorchid;\n",
    "    font-family:'Franklin Gothic Medium';\n",
    "}\n",
    ".p2{\n",
    "    background-color:darkred;\n",
    "    color:lightskyblue;\n",
    "    font-family: Impact;\n",
    "}\n",
    "</style>\n",
    "\n",
    "<div>\n",
    "<h3 class=\"Header\">Web Programming HTML Test</h3>\n",
    "    <p class=\"p1\">Want to get an annoying alert? Look no further!</p>\n",
    "    <button id=\"button\" title=\"You sure?\">Click me to get an alert!</button>\n",
    "    <script>\n",
    "        var button = document.getElementById(\"button\");\n",
    "        button.addEventListener('click', function() {\n",
    "            alert(\"You clicked the button!\");\n",
    "        });\n",
    "    </script>\n",
    "</div>\n",
    "\n",
    "<div>\n",
    "    <a href=\"https://media.discordapp.net/attachments/1143438030749847604/1156139470861647913/Man.png?ex=6513e249&is=651290c9&hm=0465268409fce7b051eeddea83e6a1efb9ac5441e4babe5cb048c99714603ef7&=&width=973&height=605\" target=\"_blank\" title=\"Thank you for\">Random meme 1</a>\n",
    "    <br>\n",
    "    <a href=\"https://media.discordapp.net/attachments/1143438030749847604/1156140085243293797/Intimidation_is_key.jpg?ex=6513e2dc&is=6512915c&hm=ede45e69c7d5c19595f12e5437867a1b4192869a26f5a0e8837fddcf17bf6f16&=&width=636&height=605\" target=\"_blank\" title=\"reading the below text!\">Random meme 2</a>\n",
    "    <p class=\"p2\">Above you will see two links. Hover over them for a special message, and click them to go to random memes I found in my computer at 1 am.</p>\n",
    "</div>"
   ]
  },
  {
   "cell_type": "markdown",
   "metadata": {},
   "source": [
    "## The Data Types Section"
   ]
  },
  {
   "cell_type": "code",
   "execution_count": null,
   "metadata": {
    "vscode": {
     "languageId": "javascript"
    }
   },
   "outputs": [],
   "source": [
    "%%js\n",
    "\n",
    "console.log(\"Here are objects representing me\")\n",
    "\n",
    "var currentclassesvalue = [\"AP Statistics\", \"AP CSP\", \"AP Biology\", \"APUSH\", \"APEL\"]\n",
    "var interestsvalue = []\n",
    "var ageofsomefriendsvalue = []\n",
    "var me = {\n",
    "    name: \"Jason Gao\",\n",
    "    age: \"16\",\n",
    "    birthdate: \"December 22nd, 2006\",\n",
    "    currentclasses: currentclassesvalue,\n",
    "    interests: interestsvalue,\n",
    "    ageofsomefriends: ageofsomefriendsvalue\n",
    "}"
   ]
  }
 ],
 "metadata": {
  "kernelspec": {
   "display_name": "Python 3 (ipykernel)",
   "language": "python",
   "name": "python3"
  },
  "language_info": {
   "codemirror_mode": {
    "name": "ipython",
    "version": 3
   },
   "file_extension": ".py",
   "mimetype": "text/x-python",
   "name": "python",
   "nbconvert_exporter": "python",
   "pygments_lexer": "ipython3",
   "version": "3.10.12"
  }
 },
 "nbformat": 4,
 "nbformat_minor": 2
}
