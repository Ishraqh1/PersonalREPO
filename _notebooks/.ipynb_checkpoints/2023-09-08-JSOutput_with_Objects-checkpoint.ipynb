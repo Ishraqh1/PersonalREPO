{
 "cells": [
  {
   "cell_type": "markdown",
   "metadata": {},
   "source": [
    "---\n",
    "toc: true\n",
    "comments: true\n",
    "layout: post\n",
    "title: JS Output with Objects\n",
    "description: JS Output with Objects procedures\n",
    "courses: { compsci: {week: 4} }\n",
    "type: hacks\n",
    "---"
   ]
  },
  {
   "cell_type": "markdown",
   "metadata": {},
   "source": [
    "%%html\n",
    "<html>\n",
    "    <head>\n",
    "        <style>\n",
    "            #output {\n",
    "                background-color: #353b45;\n",
    "                padding: 10px;\n",
    "                border: 3px solid #ccc;\n",
    "            }\n",
    "        </style>\n",
    "    </head>\n",
    "    <body>\n",
    "        <p id=\"data\" hidden>\n",
    "        </p>\n",
    "        <div id=\"output\">\n",
    "            Hello!\n",
    "        </div>\n",
    "    </body>\n",
    "</html>\n",
    "\n"
   ]
  },
  {
   "cell_type": "code",
   "execution_count": 4,
   "metadata": {
    "vscode": {
     "languageId": "javascript"
    }
   },
   "outputs": [
    {
     "data": {
      "application/javascript": [
       "\n",
       "console.log(\"JavaScript/Jupyter Output Intro\");\n",
       "\n",
       "// Browser Console output; debugging or tracing\n",
       "console.log(\"Hello, World!\");\n",
       "\n",
       "// Set element in HTML above using DOM (Document Object Model)\n",
       "document.getElementById(\"output\").textContent = \"Hello, World!\";\n",
       "\n",
       "// Jupyter built in magic element for testing and convenience of development\n",
       "element.textContent = \"Hello, World!\";  // element is an output option as part of %%js magic\n",
       "\n",
       "//alert(\"Hello, World!\");\n"
      ],
      "text/plain": [
       "<IPython.core.display.Javascript object>"
      ]
     },
     "metadata": {},
     "output_type": "display_data"
    }
   ],
   "source": [
    "%%js // required to allow cell to be JavaScript enabled\n",
    "\n",
    "console.log(\"JavaScript/Jupyter Output Intro\");\n",
    "\n",
    "// Browser Console output; debugging or tracing\n",
    "console.log(\"Hello, World!\");\n",
    "\n",
    "// Set element in HTML above using DOM (Document Object Model)\n",
    "document.getElementById(\"output\").textContent = \"Hello, World!\";\n",
    "\n",
    "// Jupyter built in magic element for testing and convenience of development\n",
    "element.textContent = \"Hello, World!\";  // element is an output option as part of %%js magic\n",
    "\n",
    "//alert(\"Hello, World!\");"
   ]
  },
  {
   "cell_type": "code",
   "execution_count": 3,
   "metadata": {
    "vscode": {
     "languageId": "javascript"
    }
   },
   "outputs": [
    {
     "data": {
      "application/javascript": [
       "console.log(\"Variable Definition\");\n",
       "\n",
       "var msg = \"Hello, World Again!\";\n",
       "\n",
       "// Use msg to output code to Console and Jupyter Notebook\n",
       "console.log(msg);  //right click browser select Inspect, then select Console to view\n",
       "document.getElementById(\"output\").textContent = msg;\n",
       "element.append(msg);\n",
       "//alert(msg);\n"
      ],
      "text/plain": [
       "<IPython.core.display.Javascript object>"
      ]
     },
     "metadata": {},
     "output_type": "display_data"
    }
   ],
   "source": [
    "%%js\n",
    "console.log(\"Variable Definition\");\n",
    "\n",
    "var msg = \"Hello, World Again!\";\n",
    "\n",
    "// Use msg to output code to Console and Jupyter Notebook\n",
    "console.log(msg);  //right click browser select Inspect, then select Console to view\n",
    "document.getElementById(\"output\").textContent = msg;\n",
    "element.append(msg);\n",
    "//alert(msg);"
   ]
  },
  {
   "cell_type": "code",
   "execution_count": 7,
   "metadata": {
    "vscode": {
     "languageId": "javascript"
    }
   },
   "outputs": [
    {
     "ename": "SyntaxError",
     "evalue": "invalid syntax (462865529.py, line 1)",
     "output_type": "error",
     "traceback": [
      "\u001b[0;36m  File \u001b[0;32m\"/tmp/ipykernel_5887/462865529.py\"\u001b[0;36m, line \u001b[0;32m1\u001b[0m\n\u001b[0;31m    //%%js\u001b[0m\n\u001b[0m    ^\u001b[0m\n\u001b[0;31mSyntaxError\u001b[0m\u001b[0;31m:\u001b[0m invalid syntax\n"
     ]
    }
   ],
   "source": [
    "%%js\n",
    "console.log(\"Classroom Web Page\");\n",
    "\n",
    "// extract JSON text from output element in HTML page\n",
    "const jsonText = document.getElementById(\"data\").innerHTML;\n",
    "\n",
    "// convert JSON text to a JavaScript Object to process\n",
    "const classroom = JSON.parse(jsonText).classroom;\n",
    "console.log(classroom);\n",
    "\n",
    "// make an HTML Out format for pretty display\n",
    "/* Template literals (`), can make HTML generation more concise;\n",
    " * the map functions generates row strings and the join method combines them;\n",
    " * this replaces longer and ugly for loop and string concatenation.\n",
    "*/\n",
    "const htmlOut = `\n",
    "    <table>\n",
    "        <thead>\n",
    "            <tr>\n",
    "                <th>Name</th>\n",
    "                <th>GitHub ID</th>\n",
    "                <th>Class Of</th>\n",
    "                <th>Role</th>\n",
    "            </tr>\n",
    "        </thead>\n",
    "        <tbody>\n",
    "            ${classroom.map(row => `\n",
    "                <tr>\n",
    "                    <td>${row.name}</td>\n",
    "                    <td>${row.ghID}</td>\n",
    "                    <td>${row.classOf}</td>\n",
    "                    <td>${row.role}</td>\n",
    "                </tr>\n",
    "            `).join('')}\n",
    "        </tbody>\n",
    "    </table>\n",
    "`;\n",
    "\n",
    "// assign/set htmlOut to output element in HTML page\n",
    "document.getElementById(\"output\").innerHTML = htmlOut;\n",
    "\n",
    "// show raw HTML\n",
    "console.log(htmlOut);\n",
    "element.append(htmlOut);"
   ]
  }
 ],
 "metadata": {
  "kernelspec": {
   "display_name": "Python 3 (ipykernel)",
   "language": "python",
   "name": "python3"
  },
  "language_info": {
   "codemirror_mode": {
    "name": "ipython",
    "version": 3
   },
   "file_extension": ".py",
   "mimetype": "text/x-python",
   "name": "python",
   "nbconvert_exporter": "python",
   "pygments_lexer": "ipython3",
   "version": "3.10.12"
  }
 },
 "nbformat": 4,
 "nbformat_minor": 2
}
