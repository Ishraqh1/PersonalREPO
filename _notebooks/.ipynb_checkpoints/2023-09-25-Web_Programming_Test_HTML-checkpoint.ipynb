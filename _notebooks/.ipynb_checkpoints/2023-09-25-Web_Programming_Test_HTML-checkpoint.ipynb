{
 "cells": [
  {
   "cell_type": "markdown",
   "metadata": {},
   "source": [
    "---\n",
    "toc: true\n",
    "comments: true\n",
    "layout: post\n",
    "title: Web Programming \n",
    "description: The Web Programming HTML Portion of the Test\n",
    "courses: { compsci: {week: 6} }\n",
    "type: hacks\n",
    "---"
   ]
  },
  {
   "cell_type": "code",
   "execution_count": 1,
   "metadata": {
    "vscode": {
     "languageId": "html"
    }
   },
   "outputs": [
    {
     "data": {
      "text/html": [
       "<h3>Web Programming HTML</h3>\n",
       "\n",
       "<div>\n",
       "    <p>Test Paragraph</p>\n",
       "    <button>Test Button</button>\n",
       "</div>\n",
       "\n",
       "<div>\n",
       "    <a href=\"https://www.w3schools.com\">Test link to w3schools</a>\n",
       "    <a href=\"https://www.w3schools.com\">Test link to w3schools</a>\n",
       "</div>\n"
      ],
      "text/plain": [
       "<IPython.core.display.HTML object>"
      ]
     },
     "metadata": {},
     "output_type": "display_data"
    }
   ],
   "source": [
    "%%html\n",
    "<h3>Web Programming HTML</h3>\n",
    "\n",
    "<div>\n",
    "    <p>Test Paragraph</p>\n",
    "    <button>Test Button</button>\n",
    "</div>\n",
    "\n",
    "<div>\n",
    "    <a href=\"https://www.w3schools.com\">Test link to w3schools</a>\n",
    "    <a href=\"https://www.w3schools.com\">Test link to w3schools</a>\n",
    "</div>"
   ]
  }
 ],
 "metadata": {
  "kernelspec": {
   "display_name": "Python 3 (ipykernel)",
   "language": "python",
   "name": "python3"
  },
  "language_info": {
   "codemirror_mode": {
    "name": "ipython",
    "version": 3
   },
   "file_extension": ".py",
   "mimetype": "text/x-python",
   "name": "python",
   "nbconvert_exporter": "python",
   "pygments_lexer": "ipython3",
   "version": "3.10.12"
  }
 },
 "nbformat": 4,
 "nbformat_minor": 2
}
