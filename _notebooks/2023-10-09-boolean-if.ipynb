{
 "cells": [
  {
   "cell_type": "markdown",
   "metadata": {},
   "source": [
    "---\n",
    "toc: true\n",
    "comments: true\n",
    "layout: post\n",
    "title: Boolean, If Lesson\n",
    "description: Student Booleon, If Lesson and HW\n",
    "type: hacks\n",
    "courses: { compsci: {week: 8} }\n",
    "---"
   ]
  },
  {
   "cell_type": "markdown",
   "metadata": {},
   "source": [
    "# Boolean\n",
    "\n",
    "- A Boolean value is either true or false.\n",
    "- A Boolean expression produces a Boolean value (true or false) when evaluated."
   ]
  },
  {
   "cell_type": "markdown",
   "metadata": {},
   "source": [
    "## <mark>Conditional (\"if\") statements</mark>\n",
    "\n",
    "- Affect the sequential flow of control by executing different statements based on the value of a Boolean expression."
   ]
  },
  {
   "cell_type": "code",
   "execution_count": null,
   "metadata": {
    "vscode": {
     "languageId": "html"
    }
   },
   "outputs": [],
   "source": [
    "<!-- Below is in CollegeBoard Pseudocode -->\n",
    "IF (condition)\n",
    "{\n",
    "\t<block of statements>\n",
    "}\n",
    "\n",
    "The code in <block of statements> is executed if the Boolean expression condition evaluates to true; no action is taken if condition evaluates to false.\n",
    "\n",
    "IF (condition)\n",
    "{\n",
    "\t<block of statements>\n",
    "}\n",
    "ELSE\n",
    "{\n",
    "\t<second block of statements>\n",
    "}\n",
    "\n",
    "The code in the first <block of statements> is executed if the Boolean expression condition evaluates to true; otherwise, the code in <second block of statements> is executed."
   ]
  },
  {
   "cell_type": "markdown",
   "metadata": {},
   "source": [
    "<b>Example:</b> Calculate the sum of 2 numbers. If the sum is greater than 10, display 10; otherwise, display the sum."
   ]
  },
  {
   "cell_type": "code",
   "execution_count": null,
   "metadata": {
    "vscode": {
     "languageId": "html"
    }
   },
   "outputs": [],
   "source": [
    "num1 = INPUT\n",
    "num2 = INPUT\n",
    "sum = num1 + num2\n",
    "IF (sum > 10)\n",
    "{\n",
    "\tDISPLAY (10)\n",
    "}\n",
    "ELSE\n",
    "{\n",
    "\tDISPLAY (sum)\n",
    "}"
   ]
  },
  {
   "cell_type": "markdown",
   "metadata": {},
   "source": [
    "# Hack 1\n",
    "\n",
    "- Add a variable that represents an age.\n",
    "\n",
    "- Add an 'if' and 'print' function that says \"You are an adult\" if your age is greater than or equal to 18.\n",
    "\n",
    "- Make a function that prints \"You are a minor\" with the else function."
   ]
  },
  {
   "cell_type": "code",
   "execution_count": 5,
   "metadata": {},
   "outputs": [
    {
     "name": "stdout",
     "output_type": "stream",
     "text": [
      "You are an adult\n"
     ]
    }
   ],
   "source": [
    "age = 21\n",
    "# age = input(\"What is your age?\") if want to prompt user for age\n",
    "\n",
    "if age >= 18:\n",
    "    print(\"You are an adult\")\n",
    "else:\n",
    "    print(\"You are a minor\")"
   ]
  },
  {
   "cell_type": "markdown",
   "metadata": {},
   "source": [
    "## <mark><b>Relational operators:</b></mark> \n",
    "- Used to test the relationship between 2 variables, expressions, or values. These relational operators are used for comparisons and they evaluate to a Boolean value (true or false).\n",
    "\n",
    "<b>Ex.</b> a == b evaluates to true if a and b are equal, otherwise evaluates to false\n",
    "\n",
    "- a == b (equals)\t\n",
    "- a != b (not equal to)\n",
    "- a > b (greater than)\n",
    "- a < b (less than)\n",
    "- a >= b (greater than or equal to)\n",
    "- a <= b (less than or equal to)"
   ]
  },
  {
   "cell_type": "markdown",
   "metadata": {},
   "source": [
    "<b>Example:</b> The legal age to work in California is 14 years old. How would we write a Boolean expression to check if someone is at least 14 years old?\n",
    "\n",
    "age >= 14"
   ]
  },
  {
   "cell_type": "markdown",
   "metadata": {},
   "source": [
    "<b>Example:</b> Write a Boolean expression to check if the average of height1, height2, and height3 is at least 65 inches.\n",
    "\n",
    "(height1 + height2 + height3) / 3 >= 65"
   ]
  },
  {
   "cell_type": "markdown",
   "metadata": {},
   "source": [
    "# Hack 2\n",
    "\n",
    "- Make a variable called 'is_raining' and set it to 'True\".\n",
    "\n",
    "- Make an if statement that prints \"Bring an umbrella!\" if it is true\n",
    "\n",
    "- Make an else statement that says \"The weather is clear\"."
   ]
  },
  {
   "cell_type": "code",
   "execution_count": 10,
   "metadata": {},
   "outputs": [
    {
     "name": "stdout",
     "output_type": "stream",
     "text": [
      "The weather is clear\n"
     ]
    }
   ],
   "source": [
    "isRaining = True\n",
    "if isRaining:\n",
    "    print(\"Bring an umbrella!\")\n",
    "else:\n",
    "    print(\"The weather is clear\")"
   ]
  },
  {
   "cell_type": "markdown",
   "metadata": {},
   "source": [
    "## <mark><b>Logical operators:</b></mark>\n",
    "Used to evaluate multiple conditions to produce a single Boolean value.\n",
    "\n",
    "- <b>NOT</b>\tevaluates to true if condition is false, otherwise evaluates to false\n",
    "- <b>AND</b>\tevaluates to true if both conditions are true, otherwise evaluates to false\n",
    "- <b>OR</b>\tevaluates to true if either condition is true or if both conditions are true, otherwise evaluates to false"
   ]
  },
  {
   "cell_type": "markdown",
   "metadata": {},
   "source": [
    "<b>Example:</b> You win the game if you score at least 10 points and have 5 lives left or if you score at least 50 points and have more than 0 lives left. Write the Boolean expression for this scenario.\n",
    "\n",
    "(score >= 10 AND lives == 5) OR (score == 50 AND lives > 0)"
   ]
  },
  {
   "cell_type": "markdown",
   "metadata": {},
   "source": [
    "## <mark><b>Relational and logical operators:</b></mark>\n",
    "\n",
    "<b>Example:</b> These expressions are all different but will produce the same result.\n",
    "\n",
    "- age >= 16\n",
    "- age > 16 OR age == 16\n",
    "- NOT age < 16"
   ]
  },
  {
   "cell_type": "markdown",
   "metadata": {},
   "source": [
    "# Hack 3\n",
    "\n",
    "- Make a function to randomize numbers between 0 and 100 to be assigned to variables a and b using random.randint\n",
    "\n",
    "- Print the values of the variables\n",
    "\n",
    "- Print the relationship of the variables; a is more than, same as, or less than b"
   ]
  },
  {
   "cell_type": "code",
   "execution_count": 23,
   "metadata": {},
   "outputs": [
    {
     "name": "stdout",
     "output_type": "stream",
     "text": [
      "Variable a is 26\n",
      "Variable b is 32\n",
      "Variable a is less than variable b\n"
     ]
    }
   ],
   "source": [
    "import random\n",
    "\n",
    "a = random.randint(0,100)\n",
    "b = random.randint(0,100)\n",
    "\n",
    "print(\"Variable a is \" + str(a))\n",
    "print(\"Variable b is \" + str(b))\n",
    "\n",
    "if a > b:\n",
    "    print(\"Variable a is greater than variable b\")\n",
    "elif a == b:\n",
    "    print(\"Variable a is equal to variable b\")\n",
    "else:\n",
    "    print(\"Variable a is less than variable b\")"
   ]
  },
  {
   "cell_type": "markdown",
   "metadata": {},
   "source": [
    "## <b>Homework</b>\n",
    "\n",
    "### Criteria for above 90%:\n",
    "- Add more questions relating to Boolean rather than only one per topic (ideas: expand on conditional statements, relational/logical operators)\n",
    "- Add a way to organize the user scores (possibly some kind of leaderboard, keep track of high score vs. current score, etc. Get creative!)\n",
    "- Remember to test your code to make sure it functions correctly."
   ]
  },
  {
   "cell_type": "code",
   "execution_count": 4,
   "metadata": {},
   "outputs": [
    {
     "name": "stdout",
     "output_type": "stream",
     "text": [
      "Hello, test running /bin/python\n",
      "You will be asked 5 questions.\n",
      "Question: What is one value Booleans can take?\n",
      "You answered question 1 correctly!\n",
      "Question: What is one Boolean expression?\n",
      "You answered question 2 correctly!\n",
      "Question: Fill in the blank. Conditional statements can run __________ (9 letters) code lines depending on different conditions or Boolean expressions.\n",
      "You answered question 3 correctly!\n",
      "Question: Variable a is equal to 10, and variable b is equal to 5. The code only contains 'if a _ b:' and has 'print('a is larger than b')' nested under it. If the console outputted 'a is larger than b', what should be in the blank?\n",
      "You answered question 4 correctly!\n",
      "Question: Fill in the blank if the output is True and there are no repeat answers. 10 > 5 ___ 5 < 10, 10 > 5 ___ 7 > 3, ___ -1 >6. Format your answer like ___, ___, ___.\n",
      "You did not answer question 5 correctly. The correct answer was 'or, and, not'.\n",
      "Question: What are the two major conditional statements in python? What can be considered the combination of both of them? Hint, the first word is 2 letters and the second and third are 4 letters. Format your answer like __ ____, ____\n",
      "You did not answer question 6 correctly. The correct answer was 'if else, elif'.\n",
      "test, you scored 4/5! This corresponds to an B!\n"
     ]
    }
   ],
   "source": [
    "# The quiz contains questions related to Boolean values, Boolean expressions,\n",
    "# conditional statements, relational operators, and logical operators.\n",
    "\n",
    "# Import necessary modules\n",
    "import getpass  # Module to get the user's name\n",
    "import sys  # Module to access system-related information\n",
    "\n",
    "# Function to ask a question and get a response\n",
    "def question_with_response(prompt):\n",
    "    # Print the question\n",
    "    print(\"Question: \" + prompt)\n",
    "    # Get user input as the response\n",
    "    msg = input()\n",
    "    return msg\n",
    "\n",
    "# Define the number of questions and initialize the correct answers counter\n",
    "questions = 5\n",
    "correct = 0\n",
    "\n",
    "# Personalized greeting message\n",
    "# Collect the student's name\n",
    "user_name = input(\"Enter your name: \")\n",
    "print('Hello, ' + user_name + \" running \" + sys.executable)\n",
    "print(\"You will be asked \" + str(questions) + \" questions.\")\n",
    "answer = input(\"Are you ready to take a test?\")\n",
    "\n",
    "# Question 1: Boolean Basics \n",
    "# Ask a question about Boolean values and check the response\n",
    "# Provide feedback based on the correctness of the response\n",
    "question1 = question_with_response(\"What is one value Booleans can take?\")\n",
    "if question1.lower() == \"true\" or question1 == \"false\":\n",
    "    correct += 1\n",
    "    print(\"You answered question 1 correctly!\")\n",
    "else:\n",
    "    print(\"You did not answer question 1 correctly. The correct answer was either 'true' or 'false'.\")\n",
    "\n",
    "\n",
    "# Question 2: Boolean Expressions\n",
    "# Ask a question about Boolean expressions and their importance in programming\n",
    "# Provide feedback based on the correctness of the response\n",
    "question2 = question_with_response(\"What is one Boolean expression?\")\n",
    "if question2 == \">\" or question2 == \"<\" or question2 == \"==\" or question2 == \"!=\" or question2 == \">=\" or question2 == \"<=\":\n",
    "    correct += 1\n",
    "    print(\"You answered question 2 correctly!\")\n",
    "else:\n",
    "    print(\"You did not answer question 2 correctly. The correct answer was >, <, ==, !=, >=, or <=.\")\n",
    "\n",
    "\n",
    "# Question 3: Conditional Statements\n",
    "# Ask a question about the purpose of conditional (if-else) statements in programming\n",
    "# Provide feedback based on the correctness of the response\n",
    "question3 = question_with_response(\"Fill in the blank. Conditional statements can run __________ (9 letters) code lines depending on different conditions or Boolean expressions.\")\n",
    "if question3.lower() == \"different\":\n",
    "    correct += 1\n",
    "    print(\"You answered question 3 correctly!\")\n",
    "else:\n",
    "    print(\"You did not answer question 3 correctly. The correct answer was 'different'.\")\n",
    "\n",
    "\n",
    "# Question 4: Relational Operators\n",
    "# Ask a question about common relational operators in programming and provide examples\n",
    "# Provide feedback based on the correctness of the response\n",
    "question4 = question_with_response(\"Variable a is equal to 10, and variable b is equal to 5. The code only contains 'if a _ b:' and has 'print('a is larger than b')' nested under it. If the console outputted 'a is larger than b', what should be in the blank?\")\n",
    "if question4 == \">\":\n",
    "    correct += 1\n",
    "    print(\"You answered question 4 correctly!\")\n",
    "else:\n",
    "    print(\"You did not answer question 4 correctly. The correct answer was >.\")\n",
    "\n",
    "\n",
    "# Question 5: Logical Operators\n",
    "# Ask a question about the use of logical operators in programming and provide examples\n",
    "# Provide feedback based on the correctness of the response\n",
    "question5 = question_with_response(\"Fill in the blank if the output is True and there are no repeat answers. 10 > 5 ___ 5 < 10, 10 > 5 ___ 7 > 3, ___ -1 >6. Format your answer like ___, ___, ___.\")\n",
    "if question5.lower() == \"or, and, not\":\n",
    "    correct += 1\n",
    "    print(\"You answered question 5 correctly!\")\n",
    "else:\n",
    "    print(\"You did not answer question 5 correctly. The correct answer was 'or, and, not'.\")\n",
    "\n",
    "# Question 6: If, elif, else\n",
    "question6 = question_with_response(\"What are the two major conditional statements in python? What can be considered the combination of both of them? Hint, the first word is 2 letters and the second and third are 4 letters. Format your answer like __ ____, ____\")\n",
    "if question5.lower() == \"if else, elif\":\n",
    "    correct += 1\n",
    "    print(\"You answered question 6 correctly!\")\n",
    "else:\n",
    "    print(\"You did not answer question 6 correctly. The correct answer was 'if else, elif'.\")\n",
    "\n",
    "# Calculate the percentage of correct answers\n",
    "percentageCorrect = (correct / questions) * 100\n",
    "if percentageCorrect >= 90:\n",
    "    grade = \"A\"\n",
    "elif percentageCorrect >= 80 and percentageCorrect < 90:\n",
    "    grade = \"B\"\n",
    "elif percentageCorrect >= 70 and percentageCorrect < 80:\n",
    "    grade = \"C\"\n",
    "elif percentageCorrect >= 60 and percentageCorrect < 70:\n",
    "    grade = \"D\"\n",
    "else:\n",
    "    grade = \"F\"\n",
    "\n",
    "# Display the final score and percentage\n",
    "print(user_name + \", you scored \" + str(correct) + \"/\" + str(questions) +\"! This corresponds to an \" + grade + \"!\")"
   ]
  }
 ],
 "metadata": {
  "kernelspec": {
   "display_name": "Python 3",
   "language": "python",
   "name": "python3"
  },
  "language_info": {
   "codemirror_mode": {
    "name": "ipython",
    "version": 3
   },
   "file_extension": ".py",
   "mimetype": "text/x-python",
   "name": "python",
   "nbconvert_exporter": "python",
   "pygments_lexer": "ipython3",
   "version": "3.10.12"
  }
 },
 "nbformat": 4,
 "nbformat_minor": 2
}
