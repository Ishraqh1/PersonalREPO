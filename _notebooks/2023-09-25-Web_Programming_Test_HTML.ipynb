{
 "cells": [
  {
   "cell_type": "markdown",
   "metadata": {},
   "source": [
    "---\n",
    "toc: true\n",
    "comments: true\n",
    "layout: post\n",
    "title: Web Programming \n",
    "description: The Web Programming HTML Portion of the Test\n",
    "courses: { compsci: {week: 6} }\n",
    "type: hacks\n",
    "---"
   ]
  },
  {
   "cell_type": "code",
   "execution_count": null,
   "metadata": {
    "vscode": {
     "languageId": "html"
    }
   },
   "outputs": [],
   "source": [
    "%%html\n",
    "<h3>Web Programming HTML</h3>\n",
    "\n",
    "<div>\n",
    "    <p>Test Paragraph</p>\n",
    "    <button>Test Button</button>\n",
    "    <script>\n",
    "        var button = document.getElementById(\"Button\");\n",
    "        button.addEventListener(\"click\", function() {\n",
    "            console.log(\"You clicked the button!\");\n",
    "        });\n",
    "    </script>\n",
    "</div>\n",
    "\n",
    "<div>\n",
    "    <a href=\"https://www.w3schools.com\">Test link to w3schools</a>\n",
    "    <br>\n",
    "    <a href=\"https://www.w3schools.com\">Test link to w3schools</a>\n",
    "    <br>\n",
    "    <p>Test Paragraph</p>\n",
    "</div>"
   ]
  }
 ],
 "metadata": {
  "language_info": {
   "name": "python"
  },
  "orig_nbformat": 4
 },
 "nbformat": 4,
 "nbformat_minor": 2
}
