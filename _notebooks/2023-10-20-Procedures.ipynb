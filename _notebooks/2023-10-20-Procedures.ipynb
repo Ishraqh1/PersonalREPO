{
 "cells": [
  {
   "cell_type": "markdown",
   "metadata": {},
   "source": [
    "---\n",
    "toc: True\n",
    "comments: True\n",
    "layout: post\n",
    "title: Procedures Student Lesson\n",
    "description: Procedures Student Lesson by Team RAMJIJARMI. This goes over CollegeBoard Big Idea 3.12 and 3.13, which are Calling Procedures and Developing Procedures respectively.\n",
    "type: hacks\n",
    "courses: { compsci: {week: 10} }\n",
    "---"
   ]
  },
  {
   "cell_type": "markdown",
   "metadata": {},
   "source": [
    "# Procedures Student Lesson, 3.12 and 3.13"
   ]
  },
  {
   "cell_type": "markdown",
   "metadata": {},
   "source": [
    "## Procedure Algorithm / How Procedures Work\n",
    "- Procedures are essentially a set of programming instructions, or lines of code, that accomplish a goal. When executed, each line of code is executed in order (step after step after step) to get to the goal."
   ]
  },
  {
   "cell_type": "markdown",
   "metadata": {},
   "source": [
    "### Regular Code / Python"
   ]
  },
  {
   "cell_type": "code",
   "execution_count": 1,
   "metadata": {},
   "outputs": [
    {
     "name": "stdout",
     "output_type": "stream",
     "text": [
      "15.0\n"
     ]
    }
   ],
   "source": [
    "# Procedure called \"applyTax\" that applies a percent tax to a price\n",
    "def applyTax(price, percentTax): # When writing a procedure, first decide what parameters you will need to accomplish your goal\n",
    "    # Step 1: Calculate the amount taxed\n",
    "    taxAmount = price * percentTax/100\n",
    "\n",
    "    # Step 2: Add the amount taxed to the price to get the end amount\n",
    "    endAmount = price + taxAmount\n",
    "\n",
    "    return endAmount\n",
    "\n",
    "# Use procedure to apply a 50% tax to a price of $10\n",
    "cost = applyTax(10, 50)\n",
    "print(cost)"
   ]
  },
  {
   "cell_type": "markdown",
   "metadata": {},
   "source": [
    "### CollegeBoard Pseudo-Code\n",
    "- Note that the pseudo-code below has the exact same purpose as the actual code above. Ignore the breaks and spaces since they are used for formatting.\n",
    "> Differences between prseudo-code and Python:\n",
    "- Pseudo-code uses \"PROCEDURE\" instead of \"def\"\n",
    "- Pseudo-code uses \"<--\" instead of \"=\"\n",
    "- Pseudo-code uses \"{}\" instead of \":\" to mark where a procedure starts and ends\n",
    "<br>\n",
    "\n",
    "> Pseudo-code example <br>\n",
    "\n",
    "PROCEDURE applyTax (price, percentTax) <br>\n",
    "{ <br>\n",
    "&nbsp;&nbsp;&nbsp;&nbsp;taxAmount <-- price * percentTax/100 <br>\n",
    "&nbsp;&nbsp;&nbsp;&nbsp;endAmount <-- price + taxAmount <br>\n",
    "&nbsp;&nbsp;&nbsp;&nbsp;return endAmount <br>\n",
    "}"
   ]
  },
  {
   "cell_type": "markdown",
   "metadata": {},
   "source": [
    "### Mini-Hack\n",
    "<img src=\"https://media.discordapp.net/attachments/1143438030749847604/1165903186473783317/image.png?ex=65488af5&is=653615f5&hm=349a4cfef60546b6f85e59a2448ac85ed4fd0181d63f70456904909e46401d74&=\">\n",
    "\n",
    "> Instructions:\n",
    "- The blue triangle represents a robot that moves in a grid of squares. The tip of the triangle indicates where the robot is facing.\n",
    "- Write a procedure that allows the robot to make a detour around a block by moving to the left.\n",
    "\n",
    "> Commands\n",
    "- MOVE_FORWARD() - Moves the robot forward one square\n",
    "- MOVE_BACKWARD() - Moves the robot backward one square\n",
    "- ROTATE_LEFT() - Rotates the robot 90 degrees left\n",
    "- ROTATE_RIGHT() - Rotates the robot 90 degrees right\n",
    "\n",
    "> Your code here:\n"
   ]
  }
 ],
 "metadata": {
  "kernelspec": {
   "display_name": "Python 3",
   "language": "python",
   "name": "python3"
  },
  "language_info": {
   "codemirror_mode": {
    "name": "ipython",
    "version": 3
   },
   "file_extension": ".py",
   "mimetype": "text/x-python",
   "name": "python",
   "nbconvert_exporter": "python",
   "pygments_lexer": "ipython3",
   "version": "3.10.12"
  }
 },
 "nbformat": 4,
 "nbformat_minor": 2
}
