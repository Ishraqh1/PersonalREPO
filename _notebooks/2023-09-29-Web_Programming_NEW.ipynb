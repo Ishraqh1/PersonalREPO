{
 "cells": [
  {
   "cell_type": "markdown",
   "metadata": {},
   "source": [
    "---\n",
    "toc: true\n",
    "comments: true\n",
    "layout: post\n",
    "title: Web Programming Copy\n",
    "description: The Web Programming Copy\n",
    "courses: { compsci: {week: 6} }\n",
    "type: hacks\n",
    "---"
   ]
  },
  {
   "cell_type": "markdown",
   "metadata": {},
   "source": [
    "## The HTML Section"
   ]
  },
  {
   "cell_type": "code",
   "execution_count": null,
   "metadata": {
    "vscode": {
     "languageId": "html"
    }
   },
   "outputs": [],
   "source": [
    "%%html\n",
    "\n",
    "<style>\n",
    ".Header{\n",
    "    background-color: aqua;\n",
    "    color: black;\n",
    "    font-family: cursive;\n",
    "}\n",
    ".p1{\n",
    "    background-color: darkorchid;\n",
    "    font-family:'Franklin Gothic Medium';\n",
    "}\n",
    ".p2{\n",
    "    background-color:darkred;\n",
    "    color:lightskyblue;\n",
    "    font-family: Impact;\n",
    "}\n",
    "</style>\n",
    "\n",
    "<div>\n",
    "<h3 class=\"Header\">Web Programming HTML Test</h3>\n",
    "    <p class=\"p1\">Want to get an annoying alert? Look no further!</p>\n",
    "    <button id=\"button\" title=\"You sure?\">Click me to get an alert!</button>\n",
    "    <script>\n",
    "        var button = document.getElementById(\"button\");\n",
    "        button.addEventListener('click', function() {\n",
    "            alert(\"You clicked the button!\");\n",
    "        });\n",
    "    </script>\n",
    "</div>\n",
    "\n",
    "<div>\n",
    "    <a href=\"https://media.discordapp.net/attachments/1143438030749847604/1156139470861647913/Man.png?ex=6513e249&is=651290c9&hm=0465268409fce7b051eeddea83e6a1efb9ac5441e4babe5cb048c99714603ef7&=&width=973&height=605\" target=\"_blank\" title=\"Thank you for\">Random meme 1</a>\n",
    "    <br>\n",
    "    <a href=\"https://media.discordapp.net/attachments/1143438030749847604/1156140085243293797/Intimidation_is_key.jpg?ex=6513e2dc&is=6512915c&hm=ede45e69c7d5c19595f12e5437867a1b4192869a26f5a0e8837fddcf17bf6f16&=&width=636&height=605\" target=\"_blank\" title=\"reading the below text!\">Random meme 2</a>\n",
    "    <p class=\"p2\">Above you will see two links. Hover over them for a special message, and click them to go to random memes I found in my computer at 1 am.</p>\n",
    "</div>\n",
    "\n",
    "<div>\n",
    "    <p>Also, potential project idea????</p>\n",
    "    <img alt=\"Dark Souls\" src=\"https://cdn.cloudflare.steamstatic.com/steam/apps/374320/capsule_616x353.jpg?t=1682651227\" width=\"300\" height=\"200\">\n",
    "    <p>but like terminal and not very aesthetic version</p>\n",
    "</div>"
   ]
  },
  {
   "cell_type": "markdown",
   "metadata": {},
   "source": [
    "## The Data Types Section"
   ]
  },
  {
   "cell_type": "code",
   "execution_count": null,
   "metadata": {
    "vscode": {
     "languageId": "javascript"
    }
   },
   "outputs": [],
   "source": [
    "%%js\n",
    "\n",
    "// Define object\n",
    "var currentclassesvalue = [\"AP Statistics\", \"AP CSP\", \"AP Biology\", \"APUSH\", \"APEL\"]\n",
    "var interestsvalue = [\"Chemistry and science in general\", \"Trumpet and classical music\", \"Anime and manga\", \"Games\", \"Reading\"]\n",
    "var ageofteamvalue = [16, 14, 17, 17]\n",
    "\n",
    "var me = {\n",
    "    name: \"Jason Gao\",\n",
    "    age: 16,\n",
    "    birthdate: \"Decembler 22nd, 2006\",\n",
    "    currentclasses: currentclassesvalue,\n",
    "    interests: interestsvalue,\n",
    "    ageofteam: ageofteamvalue\n",
    "}\n",
    "\n",
    "// Output to console\n",
    "console.log(\"Here is an object that represents me.\")\n",
    "console.log(\"It includes my name, age, birthday, the current classes I'm taking, a few of my interestings, and the age of my team members in the Team Test.\")\n",
    "console.log(me)\n",
    "\n",
    "// Changes to make\n",
    "console.log(\"However, I forgot to add my own age to the array with the ages of our team in the Team Test. I also would like to swap an interest to a new one in my array of interests. Lastly, I made a typo in writing my birthday, so I would like to fix that.\")\n",
    "// Add my age to ageofteam\n",
    "console.log(\"Adding age...\")\n",
    "ageofteamvalue.push(16)\n",
    "// Swap interest\n",
    "console.log(\"Swapping interest...\")\n",
    "interestsvalue.pop()\n",
    "interestsvalue.push(\"History\")\n",
    "// Fix typo\n",
    "console.log(\"Fixing typo...\")\n",
    "me.birthdate = \"December 22nd, 2006\"\n",
    "\n",
    "// Print fixed objects\n",
    "console.log(\"All the edits have been made, here is the fixed object:\")\n",
    "console.log(me)\n",
    "\n",
    "// Average age of team\n",
    "console.log(\"The object is now fixed, so we can now examine parts of this object.\")\n",
    "console.log(\"I work in a team of 5, and below is the math for the average age of our team.\")\n",
    "var sumofage = ageofteamvalue[0] + ageofteamvalue[1] + ageofteamvalue[2] + ageofteamvalue[3] + ageofteamvalue[4]\n",
    "console.log(\"The sum of everyone's ages is \" + sumofage.toString())\n",
    "var avgage = sumofage / 5\n",
    "console.log(\"The average of everyone's ages is \" + avgage.toString())\n",
    "\n",
    "// Data types\n",
    "console.log(\"The datatype of the variable name is \" + typeof me.name)\n",
    "console.log(\"The datatype of the variable age is \" + typeof me.age)\n",
    "console.log(\"The datatype of the variable birthdate is \" + typeof me.birthdate)\n",
    "console.log(\"The datatype of the varaible currentclasses is \" + typeof currentclassesvalue)\n",
    "console.log(\"The datatype of the variable interests is \" + typeof interestsvalue)\n",
    "console.log(\"The datatype of the variable ageofteam is \" + typeof ageofteamvalue)"
   ]
  },
  {
   "cell_type": "markdown",
   "metadata": {},
   "source": [
    "## The DOM Section (Must show in VSCode)"
   ]
  },
  {
   "cell_type": "code",
   "execution_count": null,
   "metadata": {
    "vscode": {
     "languageId": "html"
    }
   },
   "outputs": [],
   "source": [
    "%%html\n",
    "\n",
    "<style>\n",
    ".Header{\n",
    "    background-color: aqua;\n",
    "    color: black;\n",
    "    font-family: cursive;\n",
    "}\n",
    ".p1{\n",
    "    background-color: darkorchid;\n",
    "    font-family:'Franklin Gothic Medium';\n",
    "}\n",
    ".p2{\n",
    "    background-color:darkred;\n",
    "    color:lightskyblue;\n",
    "    font-family: Impact;\n",
    "}\n",
    "</style>\n",
    "\n",
    "<div>\n",
    "<h3 class=\"Header\">DOM Section</h3>\n",
    "    <p class=\"p1\" id=\"paragraph1\">Click the button below to swap the links the below!</p>\n",
    "    <button id=\"button\" title=\"Click to swap!\">Click me to swap the links!</button>\n",
    "    <script>\n",
    "        var button = document.getElementById(\"button\");\n",
    "        button.addEventListener('click', function() {\n",
    "            var paragraph1element = document.getElementById(\"paragraph1\");\n",
    "            paragraph1element.innerHTML = \"Switched!\";\n",
    "            var link1 = document.querySelector(\"a[href='https://media.discordapp.net/attachments/1143438030749847604/1156139470861647913/Man.png?ex=6513e249&is=651290c9&hm=0465268409fce7b051eeddea83e6a1efb9ac5441e4babe5cb048c99714603ef7&=&width=973&height=605']\");\n",
    "            var link2 = document.querySelector(\"a[href='https://media.discordapp.net/attachments/1143438030749847604/1156140085243293797/Intimidation_is_key.jpg?ex=6513e2dc&is=6512915c&hm=ede45e69c7d5c19595f12e5437867a1b4192869a26f5a0e8837fddcf17bf6f16&=&width=636&height=605']\");\n",
    "            \n",
    "            var copylink1 = link1.href;\n",
    "            link1.href = link2.href;\n",
    "            link2.href = copylink1;\n",
    "\n",
    "            var copytext1 = link1.textContent;\n",
    "            link1.textContent = link2.textContent;\n",
    "            link2.textContent = copytext1;\n",
    "        });\n",
    "    </script>\n",
    "</div>\n",
    "\n",
    "<div>\n",
    "    <a href=\"https://media.discordapp.net/attachments/1143438030749847604/1156139470861647913/Man.png?ex=6513e249&is=651290c9&hm=0465268409fce7b051eeddea83e6a1efb9ac5441e4babe5cb048c99714603ef7&=&width=973&height=605\" target=\"_blank\" title=\"Thank you for\">Random meme 1</a>\n",
    "    <br>\n",
    "    <a href=\"https://media.discordapp.net/attachments/1143438030749847604/1156140085243293797/Intimidation_is_key.jpg?ex=6513e2dc&is=6512915c&hm=ede45e69c7d5c19595f12e5437867a1b4192869a26f5a0e8837fddcf17bf6f16&=&width=636&height=605\" target=\"_blank\" title=\"reading the below text!\">Random meme 2</a>\n",
    "    <p class=\"p2\">Above you will see two links. Click the button to swap the two links! Note that these are links to random memes I found in my computer at 1 am.</p>\n",
    "</div>"
   ]
  },
  {
   "cell_type": "markdown",
   "metadata": {},
   "source": [
    "## The JavaScript Section"
   ]
  },
  {
   "cell_type": "code",
   "execution_count": null,
   "metadata": {
    "vscode": {
     "languageId": "html"
    }
   },
   "outputs": [],
   "source": [
    "%%html\n",
    "\n",
    "<style>\n",
    ".DarkSouls{\n",
    "    background-color: snow;\n",
    "    color: crimson;\n",
    "    font-size: large;\n",
    "    font-family: fantasy;\n",
    "}\n",
    "</style>\n",
    "\n",
    "<h3 class=\"DarkSouls\">Game Health Calculator</h3>\n",
    "<p class=\"DarkSouls\">DUN DUN DUNNN. DARK SOULS BOSS. YOU HAVE 10 HP. THE BOSS HITS YOU.</p>\n",
    "<p>Please see the console for everything, the above text has no function :D</p>\n",
    "<script>\n",
    "    var a = 10\n",
    "    var b = 15\n",
    "    console.log(\"Let's say you start with 10 HP, so this is variable a\")\n",
    "    console.log(\"Let's say the boss hits you for 15 damage, so this is variable b\")\n",
    "    if (a > b) {\n",
    "        console.log(\"a is greater than b. Therefore, your health is greater than the damage taken, so you live in the game.\")\n",
    "    }\n",
    "    if (a == b) {\n",
    "        console.log(\"both a and b are equal. Therefore, you took the same amount of damage as your health and unfortunately died in the game.\")\n",
    "    }\n",
    "    if (a < b) {\n",
    "        console.log(\"b is greater than a. Therefore, you took more damage than your health and unfortunately died in the game.\")\n",
    "    }\n",
    "    console.log(\"Mess around with the variable values in VSCode and see the different outputs!\")\n",
    "</script>"
   ]
  },
  {
   "cell_type": "markdown",
   "metadata": {},
   "source": [
    "## The JS Debugging Section"
   ]
  },
  {
   "cell_type": "markdown",
   "metadata": {},
   "source": [
    "### Segment 1: Alphabet List\n",
    "See code below"
   ]
  },
  {
   "cell_type": "code",
   "execution_count": null,
   "metadata": {
    "vscode": {
     "languageId": "javascript"
    }
   },
   "outputs": [],
   "source": [
    "%%js\n",
    "\n",
    "// ORIGINAL CODE\n",
    "// var alphabet = \"abcdefghijklmnopqrstuvwxyz\";\n",
    "// var alphabetList = [];\n",
    "\n",
    "// for (var i = 0; i < 10; i++) {\n",
    "// \talphabetList.push(i);\n",
    "// }\n",
    "\n",
    "// console.log(alphabetList);\n",
    "\n",
    "// FIXED CODE\n",
    "var alphabet = \"abcdefghijklmnopqrstuvwxyz\";\n",
    "var alphabetList = [];\n",
    "\n",
    "for (var i = 0; i < alphabet.length; i++) {\n",
    "\talphabetList.push(alphabet[i]);\n",
    "}\n",
    "\n",
    "console.log(alphabetList);"
   ]
  },
  {
   "cell_type": "markdown",
   "metadata": {},
   "source": [
    "What I changed:\n",
    "- Instead of limiting the upper bound of i to less than 10, I limited it to the end of the length of the alphabet string so the code would actually iterate through the entirety of the alphabet string by turning \"i < 10\" into \"i < alphabet.length\"\n",
    "- Rather than pushing i, which is the number, I pushed the character in the alphabet string corresponding to the value of i by turning \"alphabetList.push(i)\" into \"alphabetList.push(alphabet[i])\""
   ]
  },
  {
   "cell_type": "markdown",
   "metadata": {},
   "source": [
    "### Segment 2: Numbered Alphabet \n",
    "See code below"
   ]
  },
  {
   "cell_type": "code",
   "execution_count": null,
   "metadata": {
    "vscode": {
     "languageId": "javascript"
    }
   },
   "outputs": [],
   "source": [
    "%%js\n",
    "\n",
    "// Copy your previous code to built alphabetList here\n",
    "var alphabet = \"abcdefghijklmnopqrstuvwxyz\";\n",
    "var alphabetList = [];\n",
    "for (var i = 0; i < alphabet.length; i++) {\n",
    "\talphabetList.push(alphabet[i]);\n",
    "}\n",
    "\n",
    "// ORIGINAL CODE\n",
    "// let letterNumber = 5\n",
    "\n",
    "// for (var i = 0; i < alphabetList; i++) {\n",
    "// \tif (i === letterNumber) {\n",
    "// \t\tconsole.log(letterNumber + \" is letter number 1 in the alphabet\")\n",
    "// \t}\n",
    "// }\n",
    "// Should output:\n",
    "// \"e\" is letter number 5 in the alphabet\n",
    "\n",
    "// FIXED CODE\n",
    "let letterNumber = 5\n",
    "\n",
    "for (var i = 0; i < alphabet.length; i++) {\n",
    "\tif (i === letterNumber) {\n",
    "\t\tvar letter = alphabet[letterNumber-1];\n",
    "\t\tconsole.log(letter + \" is letter number \" + letterNumber + \" in the alphabet\")\n",
    "\t}\n",
    "}"
   ]
  },
  {
   "cell_type": "markdown",
   "metadata": {},
   "source": [
    "What I changed:\n",
    "- First I changed the iteration to iterate from 0 to less than the length of the alphabet rather than the alphabet list, so it would actually go through each character in the alphabet string. I did this by changing \"i < alphabetList\" to \"i < alphabet.length\"\n",
    "- Second, I set a new variable \"letter\" to be the actual letter in the alphabet string at the position of i, or letterNumber. I then outputted this new variable instead of letterNumber directly so it actually outputted the letter rather than the number. I did this by adding \"var letter = alphabet[letterNumber-1]\". Note that the letterNumber is being subtracted by 1 because the code uses 0 based counting while our counting is 1 based counting, the letterNumber will be 1 ahead so I subtract by 1.\n",
    "- Lastly, I edited the output text and used concatenation to add the letterNumber variable directly rather than a static number by changing 1 into letterNumber and doing the appropriate concatenation."
   ]
  },
  {
   "cell_type": "markdown",
   "metadata": {},
   "source": [
    "### Segment 3: Odd Numbers\n",
    "See code below"
   ]
  },
  {
   "cell_type": "code",
   "execution_count": null,
   "metadata": {
    "vscode": {
     "languageId": "javascript"
    }
   },
   "outputs": [],
   "source": [
    "%%js\n",
    "\n",
    "// ORIGINAL CODE\n",
    "// let evens = [];\n",
    "// let i = 0;\n",
    "\n",
    "// while (i <= 10) {\n",
    "//   evens.push(i);\n",
    "//   i += 2;\n",
    "// }\n",
    "\n",
    "// console.log(evens);\n",
    "\n",
    "// FIXED CODE\n",
    "let odd = [];\n",
    "let i = 1;\n",
    "\n",
    "while (i <= 10) {\n",
    "  odd.push(i);\n",
    "  i += 2;\n",
    "}\n",
    "\n",
    "console.log(odd);"
   ]
  },
  {
   "cell_type": "markdown",
   "metadata": {},
   "source": [
    "What I changed:\n",
    "- The programs code was intended to print the odd numbers below 10, so first to make the purpose more clear, I changed the array name to odd\n",
    "- Then in order to get all the odd numbers, I changed the \"i = 0\" to \"i = 1\", so the first odd number would be correctly set to 1 rather than 0, so when \"i += 2\" happens, it adds 2 to 1 (to give 3, the next odd number) rather than adding 2 to 0 (to give 2, the wrong number)."
   ]
  },
  {
   "cell_type": "markdown",
   "metadata": {},
   "source": [
    "### Below Not Edited\n",
    "See code below\n",
    "- Most values are outputted incorrectly as numbers that are both divisible by 5 and 2 satisfy both if conditions, so the program pushes that number twice (one time from the if divisible by 5, and a second time from the if divisible by 2). Therefore, the output includes 10 twice, 20 twice, 30 twice, and so on.\n",
    "- This change is thankfully very simple. The goal is to not have both conditions run if both are fulfilled. This can be accomplished by changing the second if condition to else if, so the code under the second else if condition won't run if the first if condition is fulfilled."
   ]
  },
  {
   "cell_type": "code",
   "execution_count": null,
   "metadata": {
    "vscode": {
     "languageId": "javascript"
    }
   },
   "outputs": [],
   "source": [
    "%%js\n",
    "\n",
    "var numbers = []\n",
    "var newNumbers = []\n",
    "var i = 0\n",
    "\n",
    "while (i < 100) {\n",
    "    numbers.push(i)\n",
    "    i += 1\n",
    "}\n",
    "for (var i of numbers) {\n",
    "    if (numbers[i] % 5 === 0)\n",
    "        newNumbers.push(numbers[i])\n",
    "    else if (numbers[i] % 2 === 0)\n",
    "        newNumbers.push(numbers[i])\n",
    "}\n",
    "console.log(newNumbers) "
   ]
  },
  {
   "cell_type": "markdown",
   "metadata": {},
   "source": [
    "### Challenge\n",
    "See code below"
   ]
  },
  {
   "cell_type": "code",
   "execution_count": null,
   "metadata": {
    "vscode": {
     "languageId": "javascript"
    }
   },
   "outputs": [],
   "source": [
    "%%js\n",
    "\n",
    "var menu =  {\"burger\": 3.99,\n",
    "         \"fries\": 1.99,\n",
    "         \"drink\": 0.99}\n",
    "var total = 0\n",
    "\n",
    "// Shows menu and prompt for item\n",
    "console.log(\"Menu\")\n",
    "for (var item in menu) {\n",
    "    console.log(item + \"  $\" + menu[item].toFixed(2)) // toFixed(2) makes it so the number has 2 decimals\n",
    "}\n",
    "\n",
    "while (ask !== \"no\") {\n",
    "    var ask = prompt(\"What would you like from the menu? If you're finished, please enter no\");\n",
    "    if (ask == \"burger\") {\n",
    "        total += menu[\"burger\"]\n",
    "    }\n",
    "}\n",
    "\n",
    "// Total Price\n",
    "console.log(total)"
   ]
  }
 ],
 "metadata": {
  "kernelspec": {
   "display_name": "Python 3",
   "language": "python",
   "name": "python3"
  },
  "language_info": {
   "codemirror_mode": {
    "name": "ipython",
    "version": 3
   },
   "file_extension": ".py",
   "mimetype": "text/x-python",
   "name": "python",
   "nbconvert_exporter": "python",
   "pygments_lexer": "ipython3",
   "version": "3.10.12"
  },
  "orig_nbformat": 4
 },
 "nbformat": 4,
 "nbformat_minor": 2
}
