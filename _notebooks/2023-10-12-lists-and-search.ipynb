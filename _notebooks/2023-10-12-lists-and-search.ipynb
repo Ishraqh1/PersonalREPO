{
 "cells": [
  {
   "cell_type": "markdown",
   "id": "a2cc529f",
   "metadata": {},
   "source": [
    "---\n",
    "toc: True\n",
    "comments: False\n",
    "layout: post\n",
    "title: Lists and Search Student Lesson\n",
    "type: hacks\n",
    "courses: { compsci: {week: 9} }\n",
    "---"
   ]
  },
  {
   "cell_type": "markdown",
   "id": "c704695f",
   "metadata": {},
   "source": [
    "# Made by: Ryan, Daniel, Saaras, Will, and Andrew"
   ]
  },
  {
   "cell_type": "markdown",
   "id": "e3260b38",
   "metadata": {},
   "source": [
    "## Python lists Operations"
   ]
  },
  {
   "cell_type": "markdown",
   "id": "2d948d76",
   "metadata": {},
   "source": [
    "### Append function\n",
    "# From the Data Abstractions Unit we Learned about lists and how they can store multiple variables \n",
    "# Today we're going to show you how to add items to lists utilizing the append option"
   ]
  },
  {
   "cell_type": "code",
   "execution_count": 1,
   "id": "5e8e0948",
   "metadata": {},
   "outputs": [
    {
     "name": "stdout",
     "output_type": "stream",
     "text": [
      "['hi', 'no']\n"
     ]
    }
   ],
   "source": [
    "\n",
    "lst = [\"hi\"]\n",
    "lst.append(\"no\")\n",
    "print(lst)"
   ]
  },
  {
   "cell_type": "markdown",
   "id": "4dacd1fd",
   "metadata": {},
   "source": [
    "### Insert function\n",
    "- The insert function allows you to append items to different lists at a specific location.\n",
    "- Let's first understand how it may work through pseudocode\n",
    "\n",
    "#### Exmaple 1\n",
    "INSERT alist, pos, value \n",
    "INSERT alist, 1, \"hi\" \n",
    "- Here the alist represents your list you want to append an item to\n",
    "- The position is where on the list the item will be generated in respect to the current list\n",
    "- Finally, the value is the item you're adding to your list. \n",
    "- So in the code provided below, in position 1 you insert the item \"hi\" into alist\n",
    "\n",
    "### Your turn!!!!\n",
    "- Turn this pseudocode into python\n",
    "- How may we want to implement this on python? Think back to the data abstraction unit. \n",
    "- ( Hint: Think about the differences between psueodcode and python )"
   ]
  },
  {
   "cell_type": "code",
   "execution_count": 3,
   "id": "1c6c3810",
   "metadata": {},
   "outputs": [
    {
     "name": "stdout",
     "output_type": "stream",
     "text": [
      "['yes', 'index 1', 'yes', 'yes', 'hi', 'no', 'maybe', 'yes']\n"
     ]
    }
   ],
   "source": [
    "# ANSWER: \n",
    "lst = ['yes', 'yes', 'yes', 'hi', 'no', 'yes']\n",
    "# Inserting items to a specific list, remember python is 0 based on the items!!\n",
    "lst.insert(5, \"maybe\")\n",
    "lst.insert(1, \"index 1\")\n",
    "print(lst)"
   ]
  },
  {
   "cell_type": "markdown",
   "id": "ed4f8f87",
   "metadata": {},
   "source": [
    "### Remove function\n",
    "- The remove functions allows you to remove specific items at a specific position on the list\n",
    "\n",
    "#### Pseudocode example\n",
    "- REMOVE aList, pos\n",
    "\n"
   ]
  },
  {
   "cell_type": "code",
   "execution_count": 4,
   "id": "d29c6491",
   "metadata": {},
   "outputs": [
    {
     "name": "stdout",
     "output_type": "stream",
     "text": [
      "['hi', 'no', 'maybe', 'yes']\n",
      "['no', 'maybe', 'yes']\n",
      "no\n"
     ]
    }
   ],
   "source": [
    "lst = ['hi', 'no', 'maybe', 'yes']\n",
    "print(lst)\n",
    "lst.remove(lst[0])\n",
    "print(lst)\n",
    "## You can also access the list by the position, this is called list indexing\n",
    "print(lst[0])"
   ]
  },
  {
   "cell_type": "markdown",
   "id": "82b37677",
   "metadata": {},
   "source": [
    "### Let's do some Collegeboard exercises\n",
    "- In the following list:\n",
    "  - nums = [65, 89, 92, 35, 84, 78, 28, 75]\n",
    "- Figure out what the minimum number in the list, WITHOUT using the other methods and premade functions.\n",
    "\n",
    "### Second question:\n",
    "- Let's say we have a list called \"animals\" from a survey that stores whether or not they prefer \"cats\" or \"dogs\" as strings in this list.\n",
    "- Transverse this list and tell me the total amount cats and dogs in the list\n"
   ]
  },
  {
   "cell_type": "code",
   "execution_count": 5,
   "id": "72025150",
   "metadata": {},
   "outputs": [
    {
     "name": "stdout",
     "output_type": "stream",
     "text": [
      "35\n",
      "this number is the lowest number in the nums list\n",
      "28\n",
      "this is the actual lowest number\n"
     ]
    }
   ],
   "source": [
    "nums = [65, 89, 92, 35, 84, 78, 28, 75]\n",
    "print(nums[3])\n",
    "print(\"this number is the lowest number in the nums list\")\n",
    "## Your code here\n",
    "print(nums[6])\n",
    "print(\"this is the actual lowest number\")"
   ]
  },
  {
   "cell_type": "code",
   "execution_count": 6,
   "id": "4e9f4651",
   "metadata": {},
   "outputs": [
    {
     "name": "stdout",
     "output_type": "stream",
     "text": [
      "['cats']\n",
      "only one person works at this petshop and she likes cats.\n"
     ]
    }
   ],
   "source": [
    "animals = [\"cats\", \"dogs\"]\n",
    "\n",
    "animals.remove(\"dogs\")\n",
    "print(animals)\n",
    "print(\"only one person works at this petshop and she likes cats.\")"
   ]
  },
  {
   "cell_type": "markdown",
   "id": "bb09ae30",
   "metadata": {},
   "source": [
    "### ITS BINARY SEARCH TIME\n",
    "- By the end of this you should be able to know what binary search is\n",
    "- What the time complexity of binary search is\n",
    "- How to derive the time complexity for binary search"
   ]
  },
  {
   "cell_type": "markdown",
   "id": "f8476c40",
   "metadata": {},
   "source": [
    "### HOW DOES BINARY SEARCH WORK\n",
    "- pay attention to the demonstration in the front\n",
    "- volunteers will be called up\n",
    "- candy if you participate"
   ]
  },
  {
   "cell_type": "markdown",
   "id": "58a5568c",
   "metadata": {},
   "source": [
    "Binary search is like a guessing game where you halve your options at each step. Imagine you're finding a name in a phone book:\n",
    "\n",
    "1. **First Step:** You open the book in the middle.\n",
    "2. **Second Step:** Is the name before or after the middle? You eliminate half of the remaining names.\n",
    "3. **Repeat:** Keep dividing until you find the name or run out of names to check.\n",
    "4. **MAKE SURE YOUR LIST IS SORTED** Binary search will not work if the list isn't sorted\n",
    "\n",
    "Because you're halving the options each time, it's super quick. If you have \\(n\\) names, it takes at most \\( \\log_2(n) \\) steps to find a name. This efficiency, where the time it takes doesn't increase much as the number of names in the phone book grows, is what makes binary search awesome! Binary search is also more optimal for searcihng compared to a linear search for anything that doesnt include small lists..\n"
   ]
  },
  {
   "cell_type": "markdown",
   "id": "aab4dcf5",
   "metadata": {},
   "source": [
    "### Demo Being shown above\n",
    "The sorted list we have currently, has integers [1, 3, 4, 5, 13, 20], we are currently trying to find the index of the the integer 1 within the list\n",
    "\n",
    "How it works is we start at element 0 for our left position and element 5 for our rightwards position\n",
    "\n",
    "Our middle position becaomes 5 because ((5+0)//2)=3 so element 3\n",
    "\n",
    "Our element 3 within the list gives us the integer 5\n",
    "\n",
    "We then realize that oh 5 is greater then 3 so we have to move leftwards\n",
    "\n",
    "Then to make the algorithm more efficient we move the r backwards 1 beacuse we have already checked at this point\n",
    "\n",
    "So now we can reduce the list to [1, 3, 4]\n",
    "\n",
    "Now we can repeat the same steps as before and find the middle of this list which is 3\n",
    "\n",
    "We realize thats not equivalent to the integer 1, and our value is still too great\n",
    "\n",
    "So we move the middle leftwards 1 positioon\n",
    "\n",
    "AND BAM THATS HOW YOU CAN DO BINARY SEARCH\n",
    "\n",
    "\n"
   ]
  },
  {
   "cell_type": "code",
   "execution_count": 23,
   "id": "df0e0b53",
   "metadata": {},
   "outputs": [
    {
     "name": "stdout",
     "output_type": "stream",
     "text": [
      "3\n"
     ]
    }
   ],
   "source": [
    "# example of binary search in python has a time complexity of O(n)\n",
    "def binarySearch(arr, x):\n",
    "    l= 0 #our minimum element\n",
    "    r=len(arr) - 1 # our maximum element\n",
    "    while l <= r:\n",
    "        mid = l + (r - l) // 2 \n",
    "        if arr[mid] == x:\n",
    "            return mid\n",
    "        elif arr[mid] < x:\n",
    "            l = mid + 1\n",
    "        else:\n",
    "            r = mid - 1\n",
    "    return -1\n",
    "\n",
    "\n",
    "sorted_list = [2, 5, 8, 12, 16]\n",
    "target = 12\n",
    "result = binarySearch(sorted_list, target)\n",
    "print(result)\n"
   ]
  },
  {
   "cell_type": "code",
   "execution_count": 9,
   "id": "1b892fe0",
   "metadata": {},
   "outputs": [
    {
     "name": "stdout",
     "output_type": "stream",
     "text": [
      "3\n"
     ]
    }
   ],
   "source": [
    "#Linear Search Approach in O(n)\n",
    "def linear_search(target, sorted_list):\n",
    "    for o in range(len(sorted_list)):\n",
    "        if sorted_list[o]==target:\n",
    "            return(o)\n",
    "#Does not have to be a sorted list for the sake of comparison I just made it sorted\n",
    "sorted_list = [1, 3, 5, 7, 9, 11, 13, 15] #worst case scenario for linear search is last item bc have to go through every item to find it\n",
    "target = 7\n",
    "result = linear_search(target, sorted_list)\n",
    "print(result)\n"
   ]
  },
  {
   "cell_type": "markdown",
   "id": "97b3f083",
   "metadata": {},
   "source": [
    "Using linear search make a list with elements [\"eggs\", \"milk\", \"butter\", \"cake\"]\n",
    "Then randomize an element 1-4 within that list and find the index of it via linear search"
   ]
  },
  {
   "cell_type": "code",
   "execution_count": 29,
   "id": "d6617031",
   "metadata": {},
   "outputs": [
    {
     "name": "stdout",
     "output_type": "stream",
     "text": [
      "butter\n",
      "the index is 2\n"
     ]
    }
   ],
   "source": [
    "#code here\n",
    "import random\n",
    "index = random.randint(0,3)\n",
    "\n",
    "def search(end, strings):\n",
    "    for i in strings:\n",
    "        if i == end:\n",
    "            return(i)\n",
    "\n",
    "strings = [\"eggs\", \"milk\", \"butter\", \"cake\"]\n",
    "\n",
    "result = search(strings[index], strings) #index is the random number, so strings[index] gets the random string that we want to find\n",
    "print(result)\n",
    "print(\"the index is \" + str(index))"
   ]
  },
  {
   "cell_type": "markdown",
   "id": "abd6924e",
   "metadata": {},
   "source": [
    "How big O Notation works in the context works in the case of search methods.\n",
    "\n",
    "Lets first explain for linear search, because linear search only requires a iterative approach all we use is O(n), this is due\n",
    "to the loop infinitely going until it finds the element and then after that it doesnt do anything.\n",
    "\n",
    "However binary search is special in this sense because you don't actually have to go through an entire loop how you can picture this is by imagining a list with 1000000 integer values in it and my target value is 59223, binary search makes it so that you just divide the list by 2 until you find the element. It's a lot faster then the iterative approach, where I keep going until I get to 59223 what this does is it allows me to speed up the time and memory usage I take. because I keep dividing the list by 2 allowing for me to form a logarithm because its just repetitive multiplication of 1/2 and then that makes it so that O(log(n)) becomes the time complexity for the Binary search algorithm.\n",
    "\n",
    "\n"
   ]
  },
  {
   "cell_type": "markdown",
   "id": "b849fad1",
   "metadata": {},
   "source": [
    "HW TIME!!!!!!!!!!!!!!!!!!\n",
    "We want you guys to make a guessing game below, where utilizing binary search you can within a list of 100 sorted elemments find, a value that your code will randomize using random.randint(). We want you to also make it so every iteration output the number is higher up or lower until you actually get to the answer. We also want number of tries it took to guess the number. Points will be awarded for customizations and potential changes.\n",
    "\n",
    "Extra credit (for above 95%): Send a screenshot on me to slack showing you can do this: https://codeforces.com/contest/1201/problem/C"
   ]
  },
  {
   "cell_type": "code",
   "execution_count": 14,
   "id": "34575e73",
   "metadata": {},
   "outputs": [
    {
     "name": "stdout",
     "output_type": "stream",
     "text": [
      "This is the list in question with a length of 100: [0, 1, 1, 3, 6, 7, 8, 9, 11, 13, 13, 16, 17, 18, 19, 20, 20, 21, 22, 22, 24, 25, 25, 25, 26, 27, 27, 30, 30, 30, 31, 34, 34, 35, 35, 35, 35, 36, 37, 37, 38, 39, 39, 40, 41, 42, 44, 47, 47, 48, 48, 48, 49, 49, 51, 52, 52, 53, 54, 55, 56, 57, 58, 58, 60, 61, 61, 66, 67, 68, 72, 72, 75, 81, 81, 82, 83, 84, 85, 85, 85, 86, 87, 87, 87, 87, 88, 88, 89, 89, 90, 90, 91, 91, 92, 93, 95, 95, 96, 97].\n",
      "The target value was 85 at index 80\n"
     ]
    }
   ],
   "source": [
    "#Code in here\n",
    "import random\n",
    "\n",
    "# function for binary search\n",
    "def binarySearch(sortNumList):\n",
    "    minIndex = 0\n",
    "    maxIndex = len(sortNumList) - 1\n",
    "    while minIndex <= maxIndex:\n",
    "        middle = (minIndex + maxIndex)//2\n",
    "        if sortNumList[middle] == endNum:\n",
    "            return middle\n",
    "        elif sortNumList[middle] < endNum:\n",
    "            minIndex = middle\n",
    "        else:\n",
    "            maxIndex = middle\n",
    "\n",
    "# create list of 100 random numbers\n",
    "numList = []\n",
    "x = 0\n",
    "while x<100:\n",
    "    num = random.randint(0,100)\n",
    "    numList.append(num)\n",
    "    x += 1\n",
    "sortNumList = sorted(numList)\n",
    "print(f\"This is the list in question with a length of {len(sortNumList)}: {sortNumList}.\")\n",
    "\n",
    "# pick random number to find using binary search\n",
    "endNumIndex = random.randint(0,99)\n",
    "endNum = numList[endNumIndex]\n",
    "\n",
    "# call function and print result\n",
    "output = binarySearch(sortNumList)\n",
    "print(f\"The target value was {sortNumList[output]} at index {output}\")"
   ]
  },
  {
   "cell_type": "markdown",
   "id": "fb348a05",
   "metadata": {},
   "source": [
    "HW Part 2: This time instead of utilizing binary search to do it I want you to use linear search to get to the same value and I want you to output the number of iterations it took to get there. Aswell as a congrats message upon getting there points will be awarded upon creativity and completion."
   ]
  },
  {
   "cell_type": "code",
   "execution_count": 2,
   "id": "8ba0fe5a",
   "metadata": {},
   "outputs": [
    {
     "name": "stdout",
     "output_type": "stream",
     "text": [
      "This is the list in question with a length of 100: [29, 87, 87, 81, 100, 84, 87, 41, 9, 80, 16, 62, 34, 39, 26, 83, 27, 16, 3, 85, 36, 62, 84, 90, 32, 2, 22, 83, 9, 37, 74, 91, 80, 32, 50, 1, 14, 13, 29, 25, 70, 57, 53, 35, 86, 98, 37, 49, 66, 31, 20, 80, 89, 14, 45, 0, 51, 33, 19, 69, 91, 59, 38, 81, 77, 40, 45, 7, 12, 58, 52, 47, 89, 7, 100, 100, 56, 60, 84, 66, 72, 91, 48, 25, 48, 79, 90, 7, 96, 0, 85, 30, 7, 37, 71, 63, 38, 61, 41, 64].\n",
      "Congratulations🥳🎉‼️ The target number was found 👍‼️\n",
      "The target number was 29 at index 0. It took 1 iterations to get the target number.\n"
     ]
    }
   ],
   "source": [
    "#Code in here\n",
    "import random\n",
    "\n",
    "import emoji\n",
    "\n",
    "# function for binary search\n",
    "def linearSearch(endNum, numList):\n",
    "    count = 0\n",
    "    for i in range(len(numList)):\n",
    "        count += 1\n",
    "        if numList[i] == endNum:\n",
    "            return i, count\n",
    "\n",
    "# create list of 100 random numbers\n",
    "numList = []\n",
    "x = 0\n",
    "while x<100:\n",
    "    num = random.randint(0,100)\n",
    "    numList.append(num)\n",
    "    x += 1\n",
    "print(f\"This is the list in question with a length of {len(numList)}: {numList}.\")\n",
    "\n",
    "# pick random number to find using binary search\n",
    "endNumIndex = random.randint(0,99)\n",
    "endNum = numList[endNumIndex]\n",
    "\n",
    "# call function and print result\n",
    "output, endCount = linearSearch(endNum, numList)\n",
    "print(\"Congratulations\" + emoji.emojize(\":partying_face:\") + emoji.emojize(\":party_popper:\") + emoji.emojize(\":double_exclamation_mark:\") + \" The target number was found \" + emoji.emojize(\":thumbs_up:\") + emoji.emojize(\":double_exclamation_mark:\"))\n",
    "print(f\"The target number was {endNum} at index {output}. It took {endCount} iterations to get the target number.\")"
   ]
  },
  {
   "cell_type": "code",
   "execution_count": 37,
   "id": "e1b920af",
   "metadata": {},
   "outputs": [
    {
     "name": "stdout",
     "output_type": "stream",
     "text": [
      "The sorted number list is [0, 1, 2, 2, 2, 4, 7]\n",
      "The k is 7\n",
      "The list after 1 operation(s): [0, 1, 2, 2, 3, 4, 7]\n",
      "The list after 2 operation(s): [0, 1, 2, 3, 3, 4, 7]\n",
      "The list after 3 operation(s): [0, 1, 2, 3, 4, 4, 7]\n",
      "The list after 4 operation(s): [0, 1, 2, 4, 4, 4, 7]\n",
      "The list after 5 operation(s): [0, 1, 2, 4, 4, 5, 7]\n",
      "The list after 6 operation(s): [0, 1, 2, 4, 5, 5, 7]\n",
      "The list after 7 operation(s): [0, 1, 2, 5, 5, 5, 7]\n",
      "The highest possible median is 5\n"
     ]
    }
   ],
   "source": [
    "# Extra Credit Codeforces\n",
    "\n",
    "import random\n",
    "\n",
    "# Create random array of 7 numbers from 0 to 10 and pick a k (number of operations) value from 1 to 10\n",
    "numList = []\n",
    "x = 0\n",
    "while x<7:\n",
    "    num = random.randint(0,10)\n",
    "    numList.append(num)\n",
    "    x += 1\n",
    "sortNumList = sorted(numList)\n",
    "print(f\"The sorted number list is {sortNumList}\")\n",
    "\n",
    "k = random.randint(1, 10)\n",
    "print(\"The k is \" + str(k))\n",
    "\n",
    "# Function to find max possible median\n",
    "def maxMedian(sortNumList, k):\n",
    "    # List is already odd, so no need to account for even number of integers and find the middle\n",
    "    # odd. ex: 1, 2, 3, 4, 5. Median is at index 2\n",
    "    y = 0\n",
    "    while y < k:\n",
    "        medianIndex = int((len(sortNumList) - 1)/2)\n",
    "        sortNumList[medianIndex] += 1\n",
    "        sortNumList.sort()\n",
    "        print(f\"The list after {y+1} operation(s): {sortNumList}\")\n",
    "        y += 1\n",
    "    print(f\"The highest possible median is {sortNumList[medianIndex]}\")\n",
    "\n",
    "maxMedian(sortNumList, k)"
   ]
  }
 ],
 "metadata": {
  "kernelspec": {
   "display_name": "Python 3 (ipykernel)",
   "language": "python",
   "name": "python3"
  },
  "language_info": {
   "codemirror_mode": {
    "name": "ipython",
    "version": 3
   },
   "file_extension": ".py",
   "mimetype": "text/x-python",
   "name": "python",
   "nbconvert_exporter": "python",
   "pygments_lexer": "ipython3",
   "version": "3.10.12"
  }
 },
 "nbformat": 4,
 "nbformat_minor": 5
}
