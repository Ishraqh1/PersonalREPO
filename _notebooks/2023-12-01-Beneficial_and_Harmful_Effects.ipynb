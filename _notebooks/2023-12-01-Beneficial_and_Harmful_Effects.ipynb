{
 "cells": [
  {
   "cell_type": "markdown",
   "metadata": {},
   "source": [
    "---\n",
    "toc: true\n",
    "comments: false\n",
    "layout: post\n",
    "title: 5.1 Big Idea Beneficial and Harmful Effects Student Lesson\n",
    "description: Collegeboard Big Idea 5.1 Beneficial and Harmful Effects student lesson presented by Team WRONG (Will, Rayyan, Jason, Nathan, and Grayson)\n",
    "type: hacks\n",
    "courses: { compsci: {week: 15} }\n",
    "---"
   ]
  },
  {
   "cell_type": "markdown",
   "metadata": {},
   "source": [
    "# CB Big Idea 5.1 Beneficial and Harmful Effects Student Lesson\n",
    "## Presented by Team WRONG\n",
    "\n",
    "### General Idea\n",
    "> Technology will always move forward with each innovation. These innovations have both upsides and downsides, and both are important to acknowledge and understand. Technology is designed with a purpose in mind but always has unintended effects as it is impossible to predict every single way an innovation will be used, so we have a responsiblity as consumers to use technology for its intended function and for the good of others and as programmers to guide the technology's function to benefit others and to be clear on its purpose.\n",
    "> Here, we will explain some common technological innovations that have greatly shaped our world and their beneficial and harmful impacts."
   ]
  },
  {
   "cell_type": "markdown",
   "metadata": {},
   "source": [
    "### Automated Telephone Trees\n",
    "> Automated telephone trees is a system where it can communicate using fixed voice menus with the caller, who can then respond by pressing buttons on the phone or by verbally responding. The system takes and interprets this input as information and can reroute calls, play another response, log information, and more.\n",
    "- One common example we all know is customer service. We call some business or place and are greeted with an automatic message asking us what we need help with --> we press a button and the system takes that information and moves us to an actual person or another automated message. \n",
    "- An example of a phone tree is shown below:\n",
    "<img src=\"https://cohm.com/wp-content/uploads/Call-Tree-Example-1024x925.jpeg\">\n",
    "\n",
    "> Beneficial effects:\n",
    "- 1: Lowers the workload on employees. A call center like customer service gets a massive number of calls all the time, and it is incredibly inefficient and borderline impossible to have every single person be immediately transferred to a human working at the service center. Furthermore, the person who picks up the call may not be in the department or qualified to deal with the issue. Automated phone trees can prompt the caller for a response (such as what type of issue they are having) and sort the calls so they can be transferred to qualified professionals, and some can even give an automated message with the instructions to fix the problem. As a result, automated phone trees greatly alleviate the burden on employees.\n",
    "- 2: Greater reliability. An automated phone tree does not require manual use, and thus it can accept calls 24/7. While it may not connect the caller to a human, there will (most often) always be an option to leave a voicemail, so later someone will contact you back. This guarantees that every call will be received and read.\n",
    "\n",
    "> Harmful effects:\n",
    "- 1: Terrible at handling emergencies. Emergencies require instant attention and information relaying and automatic phone trees fundamentally require time, as it uses automatic messages, call queues, holds, transfers, and more until finally reaching a human. This creates many delays which can worsen the emergency.\n",
    "- 2: Customer dissatisfaction. The phone tree requires the caller to input information, and sometimes this can take a long time as they need to listen to the complete automated voice message, press 1 button, hear another message, press another button, and so on. This can annoy the caller and lead to them simply hanging up. Hold times can also sometimes be long and wait times are a big issue. Furthermore, if the phone tree is set up to have the caller verbally respond to a question, the phone tree might not be able to interpret their response, leading to further dissatisfaction. Lastly, the caller might need to repeat their situation multiple times over and over again and no one wants to do that as it is a waste of time."
   ]
  },
  {
   "cell_type": "markdown",
   "metadata": {},
   "source": [
    "### Homework\n",
    "> For each of the following technologies, please list 2 beneficial and 2 harmful effects and explain.\n",
    "- Online shopping: \n",
    "- Cryptocurrency: \n",
    "\n",
    "> Below are examples of a technological innovation and one impact. Classify them as beneficial or harmful and explain. Remember that effects are subjective and can be seen as beneficial or harmful depending on the purpose. There is no single \"right\" answer, so this is graded based on how clear your explanation is.\n",
    "- A relatively recent development in computers is quantum computing, where qubits are used as its unit of information. Taking advantage of quantum mechanics, quantum computers are much faster and more effective, at especially calculations, than regular supercomputers, which have implications in fields where there are many variables and unknowns.\n",
    "- January 1st, 1983 is considered the birthday of the Internet, and as you all can guess, the Internet connected all computer networks across the globe.\n",
    "\n",
    "> Consider this hypothetical scenario. 15 years from now, Team WRONG is planning to launch a new virtual reality system to be streamline gaming and make the experience more immersive. The team has planned for the beneficial effects of attracting more people into gaming and helping people relieve their stress, and for the harmful effects of making the addiction issue worse. \n",
    "- What is one potential unintended effect and why can it lead to it? Is this effect beneficial or harmful and why?"
   ]
  }
 ],
 "metadata": {
  "language_info": {
   "name": "python"
  }
 },
 "nbformat": 4,
 "nbformat_minor": 2
}
