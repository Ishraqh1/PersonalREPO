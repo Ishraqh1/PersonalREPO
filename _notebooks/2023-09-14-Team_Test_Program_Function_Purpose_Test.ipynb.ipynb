{
 "cells": [
  {
   "cell_type": "markdown",
   "metadata": {},
   "source": [
    "---\n",
    "toc: true\n",
    "comments: true\n",
    "layout: post\n",
    "title: 1.1-1.4 Program Function and Purpose\n",
    "description: The Program Function and Purpose section for the 1.1-1.4 Team Test\n",
    "courses: { compsci: {week: 4} }\n",
    "type: hacks\n",
    "---"
   ]
  },
  {
   "cell_type": "code",
   "execution_count": 17,
   "metadata": {},
   "outputs": [
    {
     "name": "stdout",
     "output_type": "stream",
     "text": [
      "Hello, welcome to this Chemistry aid and convenience tool.\n",
      "The number of moles is 0.9990841728415619\n"
     ]
    }
   ],
   "source": [
    "# Physics\n",
    "\n",
    "# Statistics\n",
    "\n",
    "# Chemistry\n",
    "print(\"Hello, welcome to this Chemistry aid and convenience tool.\")\n",
    "actions = [\"1. Convert moles to grams\", \"2. Convert grams to moles\", \"3. Convert moles to molecules\", \"4. Convert grams to molecules\"]\n",
    "action = input(\"Please input the number of the corresponding action you would like to do.\")\n",
    "# Add PV=nRT, E = hv\n",
    "\n",
    "# Dictionary for elements and masses (EXPAND)\n",
    "masses = {\n",
    "    \"H\": 1.008,\n",
    "    \"He\": 4.0026,\n",
    "    \"Li\": 6.94,\n",
    "    \"Be\": 9.0122,\n",
    "    \"B\": 10.81,\n",
    "    \"C\": 12.011,\n",
    "    \"N\": 14.007,\n",
    "    \"O\": 15.999,\n",
    "    \"F\": 18.998,\n",
    "    \"Ne\": 20.180\n",
    "}\n",
    "\n",
    "# constant definitions\n",
    "A = 6.022*10**23\n",
    "h = 6.626*10**-34\n",
    "\n",
    "# define functions for all actions\n",
    "def moletogram():\n",
    "    element = input(\"Enter the elemental symbol of the element in question\")\n",
    "    moles = int(input(\"Enter the number of moles of \" + element))\n",
    "    molarmass = masses[elememt]\n",
    "    grams = moles * molarmass\n",
    "    print(\"The numer of grams is \" + str(grams))\n",
    "\n",
    "def gramtomole():\n",
    "    element = input(\"Enter the elemental symbol of the element in question\")\n",
    "    grams = int(input(\"Enter the number of grams of \" + element))\n",
    "    molarmass = masses[element]\n",
    "    moles = grams / molarmass\n",
    "    print(\"The number of moles is \" + str(moles))\n",
    "\n",
    "def moletomolecule():\n",
    "    moles = int(input(\"Enter the number of moles in question\"))\n",
    "    molecules = moles * 6.022*10**23\n",
    "    print(\"The number of molecules is \" + str(molecules))\n",
    "\n",
    "def gramtomolecule():\n",
    "    element = input(\"Enter the elemental symbol of the element in question\")\n",
    "    grams = int(input(\"Enter the number of grams of \" + element))\n",
    "    molarmass = masses[element]\n",
    "    moles = grams / molarmass\n",
    "    molecules = moles * 6.022*10**23\n",
    "    print(\"The number of molecules is \" + str(molecules))\n",
    "\n",
    "gramtomole()"
   ]
  }
 ],
 "metadata": {
  "kernelspec": {
   "display_name": "Python 3",
   "language": "python",
   "name": "python3"
  },
  "language_info": {
   "codemirror_mode": {
    "name": "ipython",
    "version": 3
   },
   "file_extension": ".py",
   "mimetype": "text/x-python",
   "name": "python",
   "nbconvert_exporter": "python",
   "pygments_lexer": "ipython3",
   "version": "3.10.12"
  },
  "orig_nbformat": 4
 },
 "nbformat": 4,
 "nbformat_minor": 2
}
