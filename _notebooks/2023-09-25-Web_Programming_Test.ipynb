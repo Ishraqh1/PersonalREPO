{
 "cells": [
  {
   "cell_type": "markdown",
   "metadata": {},
   "source": [
    "---\n",
    "toc: true\n",
    "comments: true\n",
    "layout: post\n",
    "title: Web Programming \n",
    "description: The Web Programming Basics Test\n",
    "courses: { compsci: {week: 6} }\n",
    "type: hacks\n",
    "---"
   ]
  },
  {
   "cell_type": "markdown",
   "metadata": {},
   "source": [
    "## The HTML Section"
   ]
  },
  {
   "cell_type": "code",
   "execution_count": 1,
   "metadata": {
    "vscode": {
     "languageId": "html"
    }
   },
   "outputs": [
    {
     "data": {
      "text/html": [
       "\n",
       "<style>\n",
       ".Header{\n",
       "    background-color: aqua;\n",
       "    color: black;\n",
       "    font-family: cursive;\n",
       "}\n",
       ".p1{\n",
       "    background-color: darkorchid;\n",
       "    font-family:'Franklin Gothic Medium';\n",
       "}\n",
       ".p2{\n",
       "    background-color:darkred;\n",
       "    color:lightskyblue;\n",
       "    font-family: Impact;\n",
       "}\n",
       "</style>\n",
       "\n",
       "<div>\n",
       "<h3 class=\"Header\">Web Programming HTML Test</h3>\n",
       "    <p class=\"p1\">Want to get an annoying alert? Look no further!</p>\n",
       "    <button id=\"button\" title=\"You sure?\">Click me to get an alert!</button>\n",
       "    <script>\n",
       "        var button = document.getElementById(\"button\");\n",
       "        button.addEventListener('click', function() {\n",
       "            alert(\"You clicked the button!\");\n",
       "        });\n",
       "    </script>\n",
       "</div>\n",
       "\n",
       "<div>\n",
       "    <a href=\"https://media.discordapp.net/attachments/1143438030749847604/1156139470861647913/Man.png?ex=6513e249&is=651290c9&hm=0465268409fce7b051eeddea83e6a1efb9ac5441e4babe5cb048c99714603ef7&=&width=973&height=605\" target=\"_blank\" title=\"Thank you for\">Random meme 1</a>\n",
       "    <br>\n",
       "    <a href=\"https://media.discordapp.net/attachments/1143438030749847604/1156140085243293797/Intimidation_is_key.jpg?ex=6513e2dc&is=6512915c&hm=ede45e69c7d5c19595f12e5437867a1b4192869a26f5a0e8837fddcf17bf6f16&=&width=636&height=605\" target=\"_blank\" title=\"reading the below text!\">Random meme 2</a>\n",
       "    <p class=\"p2\">Above you will see two links. Hover over them for a special message, and click them to go to random memes I found in my computer at 1 am.</p>\n",
       "</div>\n"
      ],
      "text/plain": [
       "<IPython.core.display.HTML object>"
      ]
     },
     "metadata": {},
     "output_type": "display_data"
    }
   ],
   "source": [
    "%%html\n",
    "\n",
    "<style>\n",
    ".Header{\n",
    "    background-color: aqua;\n",
    "    color: black;\n",
    "    font-family: cursive;\n",
    "}\n",
    ".p1{\n",
    "    background-color: darkorchid;\n",
    "    font-family:'Franklin Gothic Medium';\n",
    "}\n",
    ".p2{\n",
    "    background-color:darkred;\n",
    "    color:lightskyblue;\n",
    "    font-family: Impact;\n",
    "}\n",
    "</style>\n",
    "\n",
    "<div>\n",
    "<h3 class=\"Header\">Web Programming HTML Test</h3>\n",
    "    <p class=\"p1\">Want to get an annoying alert? Look no further!</p>\n",
    "    <button id=\"button\" title=\"You sure?\">Click me to get an alert!</button>\n",
    "    <script>\n",
    "        var button = document.getElementById(\"button\");\n",
    "        button.addEventListener('click', function() {\n",
    "            alert(\"You clicked the button!\");\n",
    "        });\n",
    "    </script>\n",
    "</div>\n",
    "\n",
    "<div>\n",
    "    <a href=\"https://media.discordapp.net/attachments/1143438030749847604/1156139470861647913/Man.png?ex=6513e249&is=651290c9&hm=0465268409fce7b051eeddea83e6a1efb9ac5441e4babe5cb048c99714603ef7&=&width=973&height=605\" target=\"_blank\" title=\"Thank you for\">Random meme 1</a>\n",
    "    <br>\n",
    "    <a href=\"https://media.discordapp.net/attachments/1143438030749847604/1156140085243293797/Intimidation_is_key.jpg?ex=6513e2dc&is=6512915c&hm=ede45e69c7d5c19595f12e5437867a1b4192869a26f5a0e8837fddcf17bf6f16&=&width=636&height=605\" target=\"_blank\" title=\"reading the below text!\">Random meme 2</a>\n",
    "    <p class=\"p2\">Above you will see two links. Hover over them for a special message, and click them to go to random memes I found in my computer at 1 am.</p>\n",
    "</div>"
   ]
  },
  {
   "cell_type": "markdown",
   "metadata": {},
   "source": [
    "## The Data Types Section"
   ]
  },
  {
   "cell_type": "code",
   "execution_count": null,
   "metadata": {
    "vscode": {
     "languageId": "javascript"
    }
   },
   "outputs": [],
   "source": [
    "%%js\n",
    "\n",
    "// Define object\n",
    "var currentclassesvalue = [\"AP Statistics\", \"AP CSP\", \"AP Biology\", \"APUSH\", \"APEL\"]\n",
    "var interestsvalue = [\"Chemistry and science in general\", \"Trumpet and classical music\", \"Anime and manga\", \"Games\", \"Reading\"]\n",
    "var ageofteamvalue = [16, 14, 17, 17]\n",
    "\n",
    "var me = {\n",
    "    name: \"Jason Gao\",\n",
    "    age: 16,\n",
    "    birthdate: \"Decembler 22nd, 2006\",\n",
    "    currentclasses: currentclassesvalue,\n",
    "    interests: interestsvalue,\n",
    "    ageofteam: ageofteamvalue\n",
    "}\n",
    "\n",
    "// Output to console\n",
    "console.log(\"Here is an object that represents me.\")\n",
    "console.log(\"It includes my name, age, birthday, the current classes I'm taking, a few of my interestings, and the age of my team members in the Team Test.\")\n",
    "console.log(me)\n",
    "\n",
    "// Changes to make\n",
    "console.log(\"However, I forgot to add my own age to the array with the ages of our team in the Team Test. I also would like to swap an interest to a new one in my array of interests. Lastly, I made a typo in writing my birthday, so I would like to fix that.\")\n",
    "// Add my age to ageofteam\n",
    "console.log(\"Adding age...\")\n",
    "ageofteamvalue.push(16)\n",
    "// Swap interest\n",
    "console.log(\"Swapping interest...\")\n",
    "interestsvalue.pop()\n",
    "interestsvalue.push(\"History\")\n",
    "// Fix typo\n",
    "console.log(\"Fixing typo...\")\n",
    "me.birthdate = \"December 22nd, 2006\"\n",
    "\n",
    "// Print fixed objects\n",
    "console.log(\"All the edits have been made, here is the fixed object:\")\n",
    "console.log(me)\n",
    "\n",
    "// Average age of team\n",
    "console.log(\"The object is now fixed, so we can now examine parts of this object.\")\n",
    "console.log(\"I work in a team of 5, and below is the math for the average age of our team.\")\n",
    "var sumofage = ageofteamvalue[0] + ageofteamvalue[1] + ageofteamvalue[2] + ageofteamvalue[3] + ageofteamvalue[4]\n",
    "console.log(\"The sum of everyone's ages is \" + sumofage.toString())\n",
    "var avgage = sumofage / 5\n",
    "console.log(\"The average of everyone's ages is \" + avgage.toString())\n",
    "\n",
    "// Data types\n",
    "console.log(\"The datatype of the variable name is \" + typeof me.name)\n",
    "console.log(\"The datatype of the variable age is \" + typeof me.age)\n",
    "console.log(\"The datatype of the variable birthdate is \" + typeof me.birthdate)\n",
    "console.log(\"The datatype of the varaible currentclasses is \" + typeof currentclassesvalue)\n",
    "console.log(\"The datatype of the variable interests is \" + typeof interestsvalue)\n",
    "console.log(\"The datatype of the variable ageofteam is \" + typeof ageofteamvalue)"
   ]
  },
  {
   "cell_type": "markdown",
   "metadata": {},
   "source": [
    "## The DOM Section"
   ]
  },
  {
   "cell_type": "code",
   "execution_count": null,
   "metadata": {
    "vscode": {
     "languageId": "html"
    }
   },
   "outputs": [],
   "source": [
    "%%html\n",
    "\n",
    "<style>\n",
    ".Header{\n",
    "    background-color: aqua;\n",
    "    color: black;\n",
    "    font-family: cursive;\n",
    "}\n",
    ".p1{\n",
    "    background-color: darkorchid;\n",
    "    font-family:'Franklin Gothic Medium';\n",
    "}\n",
    ".p2{\n",
    "    background-color:darkred;\n",
    "    color:lightskyblue;\n",
    "    font-family: Impact;\n",
    "}\n",
    "</style>\n",
    "\n",
    "<div>\n",
    "<h3 class=\"Header\">DOM Section</h3>\n",
    "    <p class=\"p1\" id=\"paragraph1\">Click the button below to swap the links the below!</p>\n",
    "    <button id=\"button\" title=\"Click to swap!\">Click me to swap the links!</button>\n",
    "    <script>\n",
    "        var button = document.getElementById(\"button\");\n",
    "        button.addEventListener('click', function() {\n",
    "            var paragraph1element = document.getElementById(\"paragraph1\");\n",
    "            paragraph1element.innerHTML = \"Switched!\";\n",
    "\n",
    "        });\n",
    "    </script>\n",
    "</div>\n",
    "\n",
    "<div>\n",
    "    <a href=\"https://media.discordapp.net/attachments/1143438030749847604/1156139470861647913/Man.png?ex=6513e249&is=651290c9&hm=0465268409fce7b051eeddea83e6a1efb9ac5441e4babe5cb048c99714603ef7&=&width=973&height=605\" target=\"_blank\" title=\"Thank you for\">Random meme 1</a>\n",
    "    <br>\n",
    "    <a href=\"https://media.discordapp.net/attachments/1143438030749847604/1156140085243293797/Intimidation_is_key.jpg?ex=6513e2dc&is=6512915c&hm=ede45e69c7d5c19595f12e5437867a1b4192869a26f5a0e8837fddcf17bf6f16&=&width=636&height=605\" target=\"_blank\" title=\"reading the below text!\">Random meme 2</a>\n",
    "    <p class=\"p2\">Above you will see two links. Click the button to swap the two links! Note that these are links torandom memes I found in my computer at 1 am.</p>\n",
    "</div>"
   ]
  },
  {
   "cell_type": "markdown",
   "metadata": {},
   "source": [
    "## The JavaScript Section"
   ]
  },
  {
   "cell_type": "code",
   "execution_count": null,
   "metadata": {
    "vscode": {
     "languageId": "javascript"
    }
   },
   "outputs": [],
   "source": []
  },
  {
   "cell_type": "markdown",
   "metadata": {},
   "source": [
    "## The JS Debugging Section"
   ]
  },
  {
   "cell_type": "code",
   "execution_count": null,
   "metadata": {
    "vscode": {
     "languageId": "javascript"
    }
   },
   "outputs": [],
   "source": []
  }
 ],
 "metadata": {
  "kernelspec": {
   "display_name": "Python 3 (ipykernel)",
   "language": "python",
   "name": "python3"
  },
  "language_info": {
   "codemirror_mode": {
    "name": "ipython",
    "version": 3
   },
   "file_extension": ".py",
   "mimetype": "text/x-python",
   "name": "python",
   "nbconvert_exporter": "python",
   "pygments_lexer": "ipython3",
   "version": "3.10.12"
  }
 },
 "nbformat": 4,
 "nbformat_minor": 2
}
